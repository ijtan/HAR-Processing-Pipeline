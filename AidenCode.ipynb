{
 "cells": [
  {
   "cell_type": "markdown",
   "metadata": {
    "collapsed": true,
    "pycharm": {
     "name": "#%% md\n"
    }
   },
   "source": [
    "# Read the Data\n"
   ]
  },
  {
   "cell_type": "code",
   "execution_count": 1,
   "outputs": [],
   "source": [
    "import calculations\n",
    "import matplotlib.pyplot as plt\n",
    "import numpy as np\n",
    "import math"
   ],
   "metadata": {
    "collapsed": false,
    "pycharm": {
     "name": "#%%\n"
    }
   }
  },
  {
   "cell_type": "code",
   "execution_count": 2,
   "outputs": [
    {
     "name": "stderr",
     "output_type": "stream",
     "text": [
      "100%|██████████| 1948/1948 [00:01<00:00, 1292.63it/s]\n",
      "  0%|          | 0/1948 [00:00<?, ?it/s]c:\\users\\aiden williams\\appdata\\local\\programs\\python\\python37\\lib\\site-packages\\scipy\\signal\\_arraytools.py:45: FutureWarning: Using a non-tuple sequence for multidimensional indexing is deprecated; use `arr[tuple(seq)]` instead of `arr[seq]`. In the future this will be interpreted as an array index, `arr[np.array(seq)]`, which will result either in an error or a different result.\n",
      "  b = a[a_slice]\n",
      "100%|██████████| 1948/1948 [00:11<00:00, 174.21it/s]\n"
     ]
    }
   ],
   "source": [
    "data = calculations.getPreFilteredData()"
   ],
   "metadata": {
    "collapsed": false,
    "pycharm": {
     "name": "#%%\n"
    }
   }
  },
  {
   "cell_type": "code",
   "execution_count": 3,
   "outputs": [
    {
     "data": {
      "text/plain": "     label    tAcc-X    tAcc-Y    tAcc-Z  tBodyGyro-X  tBodyGyro-Y  \\\n0  WALKING -4.698993 -7.714766  2.520323    -1.727469     0.478388   \n1  WALKING -4.749322 -7.681892  2.397489    -1.987233     0.590092   \n2  WALKING -2.168454 -4.552512 -0.232969    -1.982983    -0.207246   \n3  WALKING  0.364257 -4.533522 -0.897360    -1.611728    -2.335765   \n4  WALKING  0.647072 -7.364172 -1.033054    -1.254884    -2.732331   \n\n   tBodyGyro-Z           time  tGravityAcc-X  tBodyAcc-X  tGravityAcc-Y  \\\n0    -1.208769  1618562434174      -3.971691   -0.727302      -6.500986   \n1    -1.179165  1618562434194      -3.870250   -0.879073      -6.588387   \n2    -0.533588  1618562434214      -3.768710    1.600257      -6.675394   \n3    -0.418858  1618562434233      -3.667131    4.031388      -6.761959   \n4    -0.642137  1618562434255      -3.565573    4.212644      -6.848040   \n\n   tBodyAcc-Y  tGravityAcc-Z  tBodyAcc-Z  \n0   -1.213780       2.032946    0.487377  \n1   -1.093504       2.002014    0.395475  \n2    2.122881       1.970915   -2.203883  \n3    2.228438       1.939667   -2.837027  \n4   -0.516132       1.908288   -2.941342  ",
      "text/html": "<div>\n<style scoped>\n    .dataframe tbody tr th:only-of-type {\n        vertical-align: middle;\n    }\n\n    .dataframe tbody tr th {\n        vertical-align: top;\n    }\n\n    .dataframe thead th {\n        text-align: right;\n    }\n</style>\n<table border=\"1\" class=\"dataframe\">\n  <thead>\n    <tr style=\"text-align: right;\">\n      <th></th>\n      <th>label</th>\n      <th>tAcc-X</th>\n      <th>tAcc-Y</th>\n      <th>tAcc-Z</th>\n      <th>tBodyGyro-X</th>\n      <th>tBodyGyro-Y</th>\n      <th>tBodyGyro-Z</th>\n      <th>time</th>\n      <th>tGravityAcc-X</th>\n      <th>tBodyAcc-X</th>\n      <th>tGravityAcc-Y</th>\n      <th>tBodyAcc-Y</th>\n      <th>tGravityAcc-Z</th>\n      <th>tBodyAcc-Z</th>\n    </tr>\n  </thead>\n  <tbody>\n    <tr>\n      <th>0</th>\n      <td>WALKING</td>\n      <td>-4.698993</td>\n      <td>-7.714766</td>\n      <td>2.520323</td>\n      <td>-1.727469</td>\n      <td>0.478388</td>\n      <td>-1.208769</td>\n      <td>1618562434174</td>\n      <td>-3.971691</td>\n      <td>-0.727302</td>\n      <td>-6.500986</td>\n      <td>-1.213780</td>\n      <td>2.032946</td>\n      <td>0.487377</td>\n    </tr>\n    <tr>\n      <th>1</th>\n      <td>WALKING</td>\n      <td>-4.749322</td>\n      <td>-7.681892</td>\n      <td>2.397489</td>\n      <td>-1.987233</td>\n      <td>0.590092</td>\n      <td>-1.179165</td>\n      <td>1618562434194</td>\n      <td>-3.870250</td>\n      <td>-0.879073</td>\n      <td>-6.588387</td>\n      <td>-1.093504</td>\n      <td>2.002014</td>\n      <td>0.395475</td>\n    </tr>\n    <tr>\n      <th>2</th>\n      <td>WALKING</td>\n      <td>-2.168454</td>\n      <td>-4.552512</td>\n      <td>-0.232969</td>\n      <td>-1.982983</td>\n      <td>-0.207246</td>\n      <td>-0.533588</td>\n      <td>1618562434214</td>\n      <td>-3.768710</td>\n      <td>1.600257</td>\n      <td>-6.675394</td>\n      <td>2.122881</td>\n      <td>1.970915</td>\n      <td>-2.203883</td>\n    </tr>\n    <tr>\n      <th>3</th>\n      <td>WALKING</td>\n      <td>0.364257</td>\n      <td>-4.533522</td>\n      <td>-0.897360</td>\n      <td>-1.611728</td>\n      <td>-2.335765</td>\n      <td>-0.418858</td>\n      <td>1618562434233</td>\n      <td>-3.667131</td>\n      <td>4.031388</td>\n      <td>-6.761959</td>\n      <td>2.228438</td>\n      <td>1.939667</td>\n      <td>-2.837027</td>\n    </tr>\n    <tr>\n      <th>4</th>\n      <td>WALKING</td>\n      <td>0.647072</td>\n      <td>-7.364172</td>\n      <td>-1.033054</td>\n      <td>-1.254884</td>\n      <td>-2.732331</td>\n      <td>-0.642137</td>\n      <td>1618562434255</td>\n      <td>-3.565573</td>\n      <td>4.212644</td>\n      <td>-6.848040</td>\n      <td>-0.516132</td>\n      <td>1.908288</td>\n      <td>-2.941342</td>\n    </tr>\n  </tbody>\n</table>\n</div>"
     },
     "execution_count": 3,
     "metadata": {},
     "output_type": "execute_result"
    }
   ],
   "source": [
    "data[0].head()"
   ],
   "metadata": {
    "collapsed": false,
    "pycharm": {
     "name": "#%%\n"
    }
   }
  },
  {
   "cell_type": "markdown",
   "source": [
    "# add Jerk"
   ],
   "metadata": {
    "collapsed": false
   }
  },
  {
   "cell_type": "code",
   "execution_count": 4,
   "outputs": [],
   "source": [
    "for d in data:\n",
    "    d['tBodyAccJerk-X'] = np.gradient(d['tBodyAcc-X'], 0.02)\n",
    "    d['tBodyAccJerk-Y'] = np.gradient(d['tBodyAcc-Y'], 0.02)\n",
    "    d['tBodyAccJerk-Z'] = np.gradient(d['tBodyAcc-Z'], 0.02)\n",
    "    d['tBodyGyroJerk-X'] = np.gradient(d['tBodyGyro-X'], 0.02)\n",
    "    d['tBodyGyroJerk-Y'] = np.gradient(d['tBodyGyro-Y'], 0.02)\n",
    "    d['tBodyGyroJerk-Z'] = np.gradient(d['tBodyGyro-Z'], 0.02)"
   ],
   "metadata": {
    "collapsed": false,
    "pycharm": {
     "name": "#%%\n"
    }
   }
  },
  {
   "cell_type": "code",
   "execution_count": 5,
   "outputs": [
    {
     "data": {
      "text/plain": "     label    tAcc-X    tAcc-Y    tAcc-Z  tBodyGyro-X  tBodyGyro-Y  \\\n0  WALKING -4.698993 -7.714766  2.520323    -1.727469     0.478388   \n1  WALKING -4.749322 -7.681892  2.397489    -1.987233     0.590092   \n2  WALKING -2.168454 -4.552512 -0.232969    -1.982983    -0.207246   \n3  WALKING  0.364257 -4.533522 -0.897360    -1.611728    -2.335765   \n4  WALKING  0.647072 -7.364172 -1.033054    -1.254884    -2.732331   \n\n   tBodyGyro-Z           time  tGravityAcc-X  tBodyAcc-X  tGravityAcc-Y  \\\n0    -1.208769  1618562434174      -3.971691   -0.727302      -6.500986   \n1    -1.179165  1618562434194      -3.870250   -0.879073      -6.588387   \n2    -0.533588  1618562434214      -3.768710    1.600257      -6.675394   \n3    -0.418858  1618562434233      -3.667131    4.031388      -6.761959   \n4    -0.642137  1618562434255      -3.565573    4.212644      -6.848040   \n\n   tBodyAcc-Y  tGravityAcc-Z  tBodyAcc-Z  tBodyAccJerk-X  tBodyAccJerk-Y  \\\n0   -1.213780       2.032946    0.487377       -7.588524        6.013770   \n1   -1.093504       2.002014    0.395475       58.188967       83.416526   \n2    2.122881       1.970915   -2.203883      122.761520       83.048552   \n3    2.228438       1.939667   -2.837027       65.309695      -65.975333   \n4   -0.516132       1.908288   -2.941342       -7.022789     -114.428583   \n\n   tBodyAccJerk-Z  tBodyGyroJerk-X  tBodyGyroJerk-Y  tBodyGyroJerk-Z  \n0       -4.595101       -12.988210         5.585194         1.480219  \n1      -67.281500        -6.387847       -17.140848        16.879527  \n2      -80.812541         9.387638       -73.146414        19.007675  \n3      -18.436471        18.202486       -63.127121        -2.713712  \n4      -32.650424        13.297270        31.596816        -3.202495  ",
      "text/html": "<div>\n<style scoped>\n    .dataframe tbody tr th:only-of-type {\n        vertical-align: middle;\n    }\n\n    .dataframe tbody tr th {\n        vertical-align: top;\n    }\n\n    .dataframe thead th {\n        text-align: right;\n    }\n</style>\n<table border=\"1\" class=\"dataframe\">\n  <thead>\n    <tr style=\"text-align: right;\">\n      <th></th>\n      <th>label</th>\n      <th>tAcc-X</th>\n      <th>tAcc-Y</th>\n      <th>tAcc-Z</th>\n      <th>tBodyGyro-X</th>\n      <th>tBodyGyro-Y</th>\n      <th>tBodyGyro-Z</th>\n      <th>time</th>\n      <th>tGravityAcc-X</th>\n      <th>tBodyAcc-X</th>\n      <th>tGravityAcc-Y</th>\n      <th>tBodyAcc-Y</th>\n      <th>tGravityAcc-Z</th>\n      <th>tBodyAcc-Z</th>\n      <th>tBodyAccJerk-X</th>\n      <th>tBodyAccJerk-Y</th>\n      <th>tBodyAccJerk-Z</th>\n      <th>tBodyGyroJerk-X</th>\n      <th>tBodyGyroJerk-Y</th>\n      <th>tBodyGyroJerk-Z</th>\n    </tr>\n  </thead>\n  <tbody>\n    <tr>\n      <th>0</th>\n      <td>WALKING</td>\n      <td>-4.698993</td>\n      <td>-7.714766</td>\n      <td>2.520323</td>\n      <td>-1.727469</td>\n      <td>0.478388</td>\n      <td>-1.208769</td>\n      <td>1618562434174</td>\n      <td>-3.971691</td>\n      <td>-0.727302</td>\n      <td>-6.500986</td>\n      <td>-1.213780</td>\n      <td>2.032946</td>\n      <td>0.487377</td>\n      <td>-7.588524</td>\n      <td>6.013770</td>\n      <td>-4.595101</td>\n      <td>-12.988210</td>\n      <td>5.585194</td>\n      <td>1.480219</td>\n    </tr>\n    <tr>\n      <th>1</th>\n      <td>WALKING</td>\n      <td>-4.749322</td>\n      <td>-7.681892</td>\n      <td>2.397489</td>\n      <td>-1.987233</td>\n      <td>0.590092</td>\n      <td>-1.179165</td>\n      <td>1618562434194</td>\n      <td>-3.870250</td>\n      <td>-0.879073</td>\n      <td>-6.588387</td>\n      <td>-1.093504</td>\n      <td>2.002014</td>\n      <td>0.395475</td>\n      <td>58.188967</td>\n      <td>83.416526</td>\n      <td>-67.281500</td>\n      <td>-6.387847</td>\n      <td>-17.140848</td>\n      <td>16.879527</td>\n    </tr>\n    <tr>\n      <th>2</th>\n      <td>WALKING</td>\n      <td>-2.168454</td>\n      <td>-4.552512</td>\n      <td>-0.232969</td>\n      <td>-1.982983</td>\n      <td>-0.207246</td>\n      <td>-0.533588</td>\n      <td>1618562434214</td>\n      <td>-3.768710</td>\n      <td>1.600257</td>\n      <td>-6.675394</td>\n      <td>2.122881</td>\n      <td>1.970915</td>\n      <td>-2.203883</td>\n      <td>122.761520</td>\n      <td>83.048552</td>\n      <td>-80.812541</td>\n      <td>9.387638</td>\n      <td>-73.146414</td>\n      <td>19.007675</td>\n    </tr>\n    <tr>\n      <th>3</th>\n      <td>WALKING</td>\n      <td>0.364257</td>\n      <td>-4.533522</td>\n      <td>-0.897360</td>\n      <td>-1.611728</td>\n      <td>-2.335765</td>\n      <td>-0.418858</td>\n      <td>1618562434233</td>\n      <td>-3.667131</td>\n      <td>4.031388</td>\n      <td>-6.761959</td>\n      <td>2.228438</td>\n      <td>1.939667</td>\n      <td>-2.837027</td>\n      <td>65.309695</td>\n      <td>-65.975333</td>\n      <td>-18.436471</td>\n      <td>18.202486</td>\n      <td>-63.127121</td>\n      <td>-2.713712</td>\n    </tr>\n    <tr>\n      <th>4</th>\n      <td>WALKING</td>\n      <td>0.647072</td>\n      <td>-7.364172</td>\n      <td>-1.033054</td>\n      <td>-1.254884</td>\n      <td>-2.732331</td>\n      <td>-0.642137</td>\n      <td>1618562434255</td>\n      <td>-3.565573</td>\n      <td>4.212644</td>\n      <td>-6.848040</td>\n      <td>-0.516132</td>\n      <td>1.908288</td>\n      <td>-2.941342</td>\n      <td>-7.022789</td>\n      <td>-114.428583</td>\n      <td>-32.650424</td>\n      <td>13.297270</td>\n      <td>31.596816</td>\n      <td>-3.202495</td>\n    </tr>\n  </tbody>\n</table>\n</div>"
     },
     "execution_count": 5,
     "metadata": {},
     "output_type": "execute_result"
    }
   ],
   "source": [
    "data[0].head()"
   ],
   "metadata": {
    "collapsed": false,
    "pycharm": {
     "name": "#%%\n"
    }
   }
  },
  {
   "cell_type": "markdown",
   "source": [
    "# add Mag"
   ],
   "metadata": {
    "collapsed": false,
    "pycharm": {
     "name": "#%% md\n"
    }
   }
  },
  {
   "cell_type": "code",
   "execution_count": 6,
   "outputs": [],
   "source": [
    "#d = data[0]\n",
    "def mag_3_signals(x,y,z):# magnitude function redefintion\n",
    "    return np.array([math.sqrt((x[i]**2+y[i]**2+z[i]**2)) for i in range(len(x))])\n",
    "#accMag = mag_3_signals(d.XA, d.YA, d.ZA)\n",
    "\n",
    "for d in data:\n",
    "    d['tBodyAccMag'] = mag_3_signals(d['tBodyAcc-X'], d['tBodyAcc-Y'], d['tBodyAcc-Z'])\n",
    "    d['tGravityAccMag'] = mag_3_signals(d['tGravityAcc-X'], d['tGravityAcc-Y'], d['tGravityAcc-Z'])\n",
    "    d['tBodyAccJerkMag'] = mag_3_signals(d['tBodyAccJerk-X'], d['tBodyAccJerk-Y'], d['tBodyAccJerk-Z'])\n",
    "    d['tBodyGyroMag'] = mag_3_signals(d['tBodyGyro-X'], d['tBodyGyro-Y'], d['tBodyGyro-Z'])\n",
    "    d['tBodyGyroJerkMag'] = mag_3_signals(d['tBodyGyroJerk-X'], d['tBodyGyroJerk-Y'], d['tBodyGyroJerk-Z'])\n"
   ],
   "metadata": {
    "collapsed": false,
    "pycharm": {
     "name": "#%%\n"
    }
   }
  },
  {
   "cell_type": "code",
   "execution_count": 7,
   "outputs": [
    {
     "data": {
      "text/plain": "     label    tAcc-X    tAcc-Y    tAcc-Z  tBodyGyro-X  tBodyGyro-Y  \\\n0  WALKING -4.698993 -7.714766  2.520323    -1.727469     0.478388   \n1  WALKING -4.749322 -7.681892  2.397489    -1.987233     0.590092   \n2  WALKING -2.168454 -4.552512 -0.232969    -1.982983    -0.207246   \n3  WALKING  0.364257 -4.533522 -0.897360    -1.611728    -2.335765   \n4  WALKING  0.647072 -7.364172 -1.033054    -1.254884    -2.732331   \n\n   tBodyGyro-Z           time  tGravityAcc-X  tBodyAcc-X        ...         \\\n0    -1.208769  1618562434174      -3.971691   -0.727302        ...          \n1    -1.179165  1618562434194      -3.870250   -0.879073        ...          \n2    -0.533588  1618562434214      -3.768710    1.600257        ...          \n3    -0.418858  1618562434233      -3.667131    4.031388        ...          \n4    -0.642137  1618562434255      -3.565573    4.212644        ...          \n\n   tBodyAccJerk-Y  tBodyAccJerk-Z  tBodyGyroJerk-X  tBodyGyroJerk-Y  \\\n0        6.013770       -4.595101       -12.988210         5.585194   \n1       83.416526      -67.281500        -6.387847       -17.140848   \n2       83.048552      -80.812541         9.387638       -73.146414   \n3      -65.975333      -18.436471        18.202486       -63.127121   \n4     -114.428583      -32.650424        13.297270        31.596816   \n\n   tBodyGyroJerk-Z  tBodyAccMag  tGravityAccMag  tBodyAccJerkMag  \\\n0         1.480219     1.496585        7.884797        10.717559   \n1        16.879527     1.457711        7.898971       121.947009   \n2        19.007675     3.453194        7.915084       168.813861   \n3        -2.713712     5.409875        7.933111        94.646734   \n4        -3.202495     5.163745        7.953020       119.202644   \n\n   tBodyGyroMag  tBodyGyroJerkMag  \n0      2.161973         14.215451  \n1      2.384897         24.890393  \n2      2.063950         76.156532  \n3      2.868607         65.755062  \n4      3.074525         34.430106  \n\n[5 rows x 25 columns]",
      "text/html": "<div>\n<style scoped>\n    .dataframe tbody tr th:only-of-type {\n        vertical-align: middle;\n    }\n\n    .dataframe tbody tr th {\n        vertical-align: top;\n    }\n\n    .dataframe thead th {\n        text-align: right;\n    }\n</style>\n<table border=\"1\" class=\"dataframe\">\n  <thead>\n    <tr style=\"text-align: right;\">\n      <th></th>\n      <th>label</th>\n      <th>tAcc-X</th>\n      <th>tAcc-Y</th>\n      <th>tAcc-Z</th>\n      <th>tBodyGyro-X</th>\n      <th>tBodyGyro-Y</th>\n      <th>tBodyGyro-Z</th>\n      <th>time</th>\n      <th>tGravityAcc-X</th>\n      <th>tBodyAcc-X</th>\n      <th>...</th>\n      <th>tBodyAccJerk-Y</th>\n      <th>tBodyAccJerk-Z</th>\n      <th>tBodyGyroJerk-X</th>\n      <th>tBodyGyroJerk-Y</th>\n      <th>tBodyGyroJerk-Z</th>\n      <th>tBodyAccMag</th>\n      <th>tGravityAccMag</th>\n      <th>tBodyAccJerkMag</th>\n      <th>tBodyGyroMag</th>\n      <th>tBodyGyroJerkMag</th>\n    </tr>\n  </thead>\n  <tbody>\n    <tr>\n      <th>0</th>\n      <td>WALKING</td>\n      <td>-4.698993</td>\n      <td>-7.714766</td>\n      <td>2.520323</td>\n      <td>-1.727469</td>\n      <td>0.478388</td>\n      <td>-1.208769</td>\n      <td>1618562434174</td>\n      <td>-3.971691</td>\n      <td>-0.727302</td>\n      <td>...</td>\n      <td>6.013770</td>\n      <td>-4.595101</td>\n      <td>-12.988210</td>\n      <td>5.585194</td>\n      <td>1.480219</td>\n      <td>1.496585</td>\n      <td>7.884797</td>\n      <td>10.717559</td>\n      <td>2.161973</td>\n      <td>14.215451</td>\n    </tr>\n    <tr>\n      <th>1</th>\n      <td>WALKING</td>\n      <td>-4.749322</td>\n      <td>-7.681892</td>\n      <td>2.397489</td>\n      <td>-1.987233</td>\n      <td>0.590092</td>\n      <td>-1.179165</td>\n      <td>1618562434194</td>\n      <td>-3.870250</td>\n      <td>-0.879073</td>\n      <td>...</td>\n      <td>83.416526</td>\n      <td>-67.281500</td>\n      <td>-6.387847</td>\n      <td>-17.140848</td>\n      <td>16.879527</td>\n      <td>1.457711</td>\n      <td>7.898971</td>\n      <td>121.947009</td>\n      <td>2.384897</td>\n      <td>24.890393</td>\n    </tr>\n    <tr>\n      <th>2</th>\n      <td>WALKING</td>\n      <td>-2.168454</td>\n      <td>-4.552512</td>\n      <td>-0.232969</td>\n      <td>-1.982983</td>\n      <td>-0.207246</td>\n      <td>-0.533588</td>\n      <td>1618562434214</td>\n      <td>-3.768710</td>\n      <td>1.600257</td>\n      <td>...</td>\n      <td>83.048552</td>\n      <td>-80.812541</td>\n      <td>9.387638</td>\n      <td>-73.146414</td>\n      <td>19.007675</td>\n      <td>3.453194</td>\n      <td>7.915084</td>\n      <td>168.813861</td>\n      <td>2.063950</td>\n      <td>76.156532</td>\n    </tr>\n    <tr>\n      <th>3</th>\n      <td>WALKING</td>\n      <td>0.364257</td>\n      <td>-4.533522</td>\n      <td>-0.897360</td>\n      <td>-1.611728</td>\n      <td>-2.335765</td>\n      <td>-0.418858</td>\n      <td>1618562434233</td>\n      <td>-3.667131</td>\n      <td>4.031388</td>\n      <td>...</td>\n      <td>-65.975333</td>\n      <td>-18.436471</td>\n      <td>18.202486</td>\n      <td>-63.127121</td>\n      <td>-2.713712</td>\n      <td>5.409875</td>\n      <td>7.933111</td>\n      <td>94.646734</td>\n      <td>2.868607</td>\n      <td>65.755062</td>\n    </tr>\n    <tr>\n      <th>4</th>\n      <td>WALKING</td>\n      <td>0.647072</td>\n      <td>-7.364172</td>\n      <td>-1.033054</td>\n      <td>-1.254884</td>\n      <td>-2.732331</td>\n      <td>-0.642137</td>\n      <td>1618562434255</td>\n      <td>-3.565573</td>\n      <td>4.212644</td>\n      <td>...</td>\n      <td>-114.428583</td>\n      <td>-32.650424</td>\n      <td>13.297270</td>\n      <td>31.596816</td>\n      <td>-3.202495</td>\n      <td>5.163745</td>\n      <td>7.953020</td>\n      <td>119.202644</td>\n      <td>3.074525</td>\n      <td>34.430106</td>\n    </tr>\n  </tbody>\n</table>\n<p>5 rows × 25 columns</p>\n</div>"
     },
     "execution_count": 7,
     "metadata": {},
     "output_type": "execute_result"
    }
   ],
   "source": [
    "\n",
    "data[0].head()\n"
   ],
   "metadata": {
    "collapsed": false,
    "pycharm": {
     "name": "#%%\n"
    }
   }
  },
  {
   "cell_type": "code",
   "execution_count": 6,
   "outputs": [
    {
     "data": {
      "text/plain": "         XA        XR        YA        YR        ZA        ZR      lbl  \\\n0  3.664671 -0.153155  6.620615 -0.145422  6.225886  0.160349  DRIVING   \n1  3.815586 -0.317206  6.251712  0.000519  6.707377  0.078323  DRIVING   \n2  3.693416 -0.304422  6.072051 -0.062331  7.004417 -0.037790  DRIVING   \n3  3.482614 -0.125458  6.136729 -0.217860  7.018790 -0.078270  DRIVING   \n4  3.559270  0.096117  6.376276 -0.338234  7.018790 -0.019681  DRIVING   \n\n            time  tBodyAccJerk-X  tBodyAccJerk-Y  tBodyAccJerk-Z  \\\n0  1618068919996        7.545757      -18.445182       24.074554   \n1  1618068919996        0.718641      -13.714111       19.463265   \n2  1618068920008       -8.324289       -2.874577        7.785308   \n3  1618068920028       -3.353667        7.605636        0.359321   \n4  1618068920048        5.270052       10.480213       -2.874577   \n\n   tBodyGyroJerk-X  tBodyGyroJerk-Y  tBodyGyroJerk-Z  \n0        -8.202530         7.297056        -4.101264  \n1        -3.781686         2.077264        -4.953475  \n2         4.793686        -5.459475        -3.914843  \n3        10.013477        -6.897581         0.452737  \n4        12.170636        -5.619265         3.648528  ",
      "text/html": "<div>\n<style scoped>\n    .dataframe tbody tr th:only-of-type {\n        vertical-align: middle;\n    }\n\n    .dataframe tbody tr th {\n        vertical-align: top;\n    }\n\n    .dataframe thead th {\n        text-align: right;\n    }\n</style>\n<table border=\"1\" class=\"dataframe\">\n  <thead>\n    <tr style=\"text-align: right;\">\n      <th></th>\n      <th>XA</th>\n      <th>XR</th>\n      <th>YA</th>\n      <th>YR</th>\n      <th>ZA</th>\n      <th>ZR</th>\n      <th>lbl</th>\n      <th>time</th>\n      <th>tBodyAccJerk-X</th>\n      <th>tBodyAccJerk-Y</th>\n      <th>tBodyAccJerk-Z</th>\n      <th>tBodyGyroJerk-X</th>\n      <th>tBodyGyroJerk-Y</th>\n      <th>tBodyGyroJerk-Z</th>\n    </tr>\n  </thead>\n  <tbody>\n    <tr>\n      <th>0</th>\n      <td>3.664671</td>\n      <td>-0.153155</td>\n      <td>6.620615</td>\n      <td>-0.145422</td>\n      <td>6.225886</td>\n      <td>0.160349</td>\n      <td>DRIVING</td>\n      <td>1618068919996</td>\n      <td>7.545757</td>\n      <td>-18.445182</td>\n      <td>24.074554</td>\n      <td>-8.202530</td>\n      <td>7.297056</td>\n      <td>-4.101264</td>\n    </tr>\n    <tr>\n      <th>1</th>\n      <td>3.815586</td>\n      <td>-0.317206</td>\n      <td>6.251712</td>\n      <td>0.000519</td>\n      <td>6.707377</td>\n      <td>0.078323</td>\n      <td>DRIVING</td>\n      <td>1618068919996</td>\n      <td>0.718641</td>\n      <td>-13.714111</td>\n      <td>19.463265</td>\n      <td>-3.781686</td>\n      <td>2.077264</td>\n      <td>-4.953475</td>\n    </tr>\n    <tr>\n      <th>2</th>\n      <td>3.693416</td>\n      <td>-0.304422</td>\n      <td>6.072051</td>\n      <td>-0.062331</td>\n      <td>7.004417</td>\n      <td>-0.037790</td>\n      <td>DRIVING</td>\n      <td>1618068920008</td>\n      <td>-8.324289</td>\n      <td>-2.874577</td>\n      <td>7.785308</td>\n      <td>4.793686</td>\n      <td>-5.459475</td>\n      <td>-3.914843</td>\n    </tr>\n    <tr>\n      <th>3</th>\n      <td>3.482614</td>\n      <td>-0.125458</td>\n      <td>6.136729</td>\n      <td>-0.217860</td>\n      <td>7.018790</td>\n      <td>-0.078270</td>\n      <td>DRIVING</td>\n      <td>1618068920028</td>\n      <td>-3.353667</td>\n      <td>7.605636</td>\n      <td>0.359321</td>\n      <td>10.013477</td>\n      <td>-6.897581</td>\n      <td>0.452737</td>\n    </tr>\n    <tr>\n      <th>4</th>\n      <td>3.559270</td>\n      <td>0.096117</td>\n      <td>6.376276</td>\n      <td>-0.338234</td>\n      <td>7.018790</td>\n      <td>-0.019681</td>\n      <td>DRIVING</td>\n      <td>1618068920048</td>\n      <td>5.270052</td>\n      <td>10.480213</td>\n      <td>-2.874577</td>\n      <td>12.170636</td>\n      <td>-5.619265</td>\n      <td>3.648528</td>\n    </tr>\n  </tbody>\n</table>\n</div>"
     },
     "execution_count": 6,
     "metadata": {},
     "output_type": "execute_result"
    }
   ],
   "source": [
    "data[0].head()"
   ],
   "metadata": {
    "collapsed": false,
    "pycharm": {
     "name": "#%%\n"
    }
   }
  },
  {
   "cell_type": "markdown",
   "source": [
    "# add Mag"
   ],
   "metadata": {
    "collapsed": false,
    "pycharm": {
     "name": "#%% md\n"
    }
   }
  },
  {
   "cell_type": "code",
   "execution_count": 7,
   "outputs": [],
   "source": [
    "d = data[0]\n",
    "import math\n",
    "def mag_3_signals(x,y,z):# magnitude function redefintion\n",
    "    return np.array([math.sqrt((x[i]**2+y[i]**2+z[i]**2)) for i in range(len(x))])\n",
    "accMag = mag_3_signals(d.XA, d.YA, d.ZA)"
   ],
   "metadata": {
    "collapsed": false,
    "pycharm": {
     "name": "#%%\n"
    }
   }
  },
  {
   "cell_type": "code",
   "execution_count": 9,
   "outputs": [
    {
     "name": "stdout",
     "output_type": "stream",
     "text": [
      "[ 9.79918474  9.93133971  9.97862641  9.95245959 10.12860861 10.21196283\n",
      "  9.76233167  9.26739514  9.61049063 10.04991959 10.0874786   9.81659815\n",
      "  9.39346362  9.32349186  9.39262833  9.72155629  9.43165909 10.13435048\n",
      " 10.40833339 10.08305396  9.23809746  8.71476817 11.24105829 13.65250335\n",
      "  8.69336457 10.05489566  9.25486728  8.56258313  8.84403067  9.2652905\n",
      "  8.94725349  8.75427449  8.31297804  5.3096918   4.37194431  5.70416919\n",
      "  6.41273783  8.39516154 11.02901007 11.79376879 14.78068922 16.43860298\n",
      " 12.30300523 10.45572338  9.58082235 10.71155841 12.05735026 11.7502791\n",
      " 10.78784345  9.33553733  9.43932203 11.28113841 13.36431173 14.89919191\n",
      " 13.98273612 13.9280379  12.00028516 11.21770022 12.67577219 12.73341149\n",
      " 13.95731553 15.04448104  5.36658507  6.67611285  7.3904396  10.37524422\n",
      " 10.53554851  9.6504526   9.05222159  9.10897786 15.14085901 15.21980096\n",
      " 10.42158646  9.65855695  9.71555195  8.65782888  8.93657096 10.38596989\n",
      " 12.66063907 12.51579959 13.76268608  4.0426461   8.00341961 10.38476474\n",
      " 12.66883855 15.43620239 12.53100938 18.79467208 19.1980266  11.8375565\n",
      "  9.9642639   5.29183395 13.44710474 11.81378887  8.92586196  8.57579728\n",
      " 11.27491416 10.43269909  9.32533007 10.14448342 12.70597576 13.09250107\n",
      " 12.79329264  9.98625693  6.44253398 10.69149561  9.40507529  9.74565683\n",
      " 11.063014   11.80557272 12.85844709 11.24403499  8.92993256  9.24350536\n",
      "  8.73749631  8.94005188 10.21845139 11.16294219 10.63093512  9.87935126\n",
      " 10.91282518 11.81346266 11.16381239  9.68151559  7.75688712  9.32012628\n",
      " 10.64603737]\n"
     ]
    }
   ],
   "source": [
    "print(accMag)\n"
   ],
   "metadata": {
    "collapsed": false,
    "pycharm": {
     "name": "#%%\n"
    }
   }
  }
 ],
 "metadata": {
  "kernelspec": {
   "display_name": "Python 3",
   "language": "python",
   "name": "python3"
  },
  "language_info": {
   "codemirror_mode": {
    "name": "ipython",
    "version": 2
   },
   "file_extension": ".py",
   "mimetype": "text/x-python",
   "name": "python",
   "nbconvert_exporter": "python",
   "pygments_lexer": "ipython2",
   "version": "2.7.6"
  }
 },
 "nbformat": 4,
 "nbformat_minor": 0
}