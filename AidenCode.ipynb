{
 "cells": [
  {
   "cell_type": "markdown",
   "metadata": {
    "collapsed": true,
    "pycharm": {
     "name": "#%% md\n"
    }
   },
   "source": [
    "# Read the Data\n"
   ]
  },
  {
   "cell_type": "code",
   "execution_count": 8,
   "outputs": [],
   "source": [
    "import calculations\n",
    "import matplotlib.pyplot as plt"
   ],
   "metadata": {
    "collapsed": false,
    "pycharm": {
     "name": "#%%\n"
    }
   }
  },
  {
   "cell_type": "code",
   "execution_count": 9,
   "outputs": [
    {
     "name": "stderr",
     "output_type": "stream",
     "text": [
      "100%|██████████| 2032/2032 [00:01<00:00, 1526.67it/s]\n"
     ]
    }
   ],
   "source": [
    "data = calculations.get_data()"
   ],
   "metadata": {
    "collapsed": false,
    "pycharm": {
     "name": "#%%\n"
    }
   }
  },
  {
   "cell_type": "code",
   "execution_count": 15,
   "outputs": [
    {
     "data": {
      "text/plain": "(array([  1.,   0.,   0.,   0.,   0.,   0.,   0.,   0.,   0.,   0.,   0.,\n          0.,   0.,   0.,   0.,   0.,   0.,   0.,   0.,   0.,   0.,   0.,\n          0.,   0.,   0.,   0.,   0.,   0.,   0.,   0.,   0.,   0.,   0.,\n          0.,   0.,   1.,   1.,  11.,   0.,  13.,   6.,   0.,   1.,   0.,\n          0.,   0.,   1.,   1.,   0.,   0.,   0.,   0.,   0.,   0.,   1.,\n          0.,   0.,   0.,   0.,   1.,   1.,   0.,   0.,   0.,   0.,   0.,\n          0.,   0.,   0.,   0.,   1.,   1.,   0.,   0.,   2.,   1.,   0.,\n          0.,   0.,   0.,   0.,   1.,   1.,   0.,   3.,   1.,   0.,   3.,\n          0.,   0.,   0.,   0.,   0.,   0.,   0.,   0.,   0.,   0.,   0.,\n          0.,   0.,   1.,   0.,   0.,   0.,   0.,   1.,   0.,   0.,   0.,\n          0.,   1.,   1.,   0.,   0.,   0.,   0.,   0.,   1.,   3.,  53.,\n          0., 117., 402.,   0., 409., 983.,   7.]),\n array([ 37.       ,  37.7109375,  38.421875 ,  39.1328125,  39.84375  ,\n         40.5546875,  41.265625 ,  41.9765625,  42.6875   ,  43.3984375,\n         44.109375 ,  44.8203125,  45.53125  ,  46.2421875,  46.953125 ,\n         47.6640625,  48.375    ,  49.0859375,  49.796875 ,  50.5078125,\n         51.21875  ,  51.9296875,  52.640625 ,  53.3515625,  54.0625   ,\n         54.7734375,  55.484375 ,  56.1953125,  56.90625  ,  57.6171875,\n         58.328125 ,  59.0390625,  59.75     ,  60.4609375,  61.171875 ,\n         61.8828125,  62.59375  ,  63.3046875,  64.015625 ,  64.7265625,\n         65.4375   ,  66.1484375,  66.859375 ,  67.5703125,  68.28125  ,\n         68.9921875,  69.703125 ,  70.4140625,  71.125    ,  71.8359375,\n         72.546875 ,  73.2578125,  73.96875  ,  74.6796875,  75.390625 ,\n         76.1015625,  76.8125   ,  77.5234375,  78.234375 ,  78.9453125,\n         79.65625  ,  80.3671875,  81.078125 ,  81.7890625,  82.5      ,\n         83.2109375,  83.921875 ,  84.6328125,  85.34375  ,  86.0546875,\n         86.765625 ,  87.4765625,  88.1875   ,  88.8984375,  89.609375 ,\n         90.3203125,  91.03125  ,  91.7421875,  92.453125 ,  93.1640625,\n         93.875    ,  94.5859375,  95.296875 ,  96.0078125,  96.71875  ,\n         97.4296875,  98.140625 ,  98.8515625,  99.5625   , 100.2734375,\n        100.984375 , 101.6953125, 102.40625  , 103.1171875, 103.828125 ,\n        104.5390625, 105.25     , 105.9609375, 106.671875 , 107.3828125,\n        108.09375  , 108.8046875, 109.515625 , 110.2265625, 110.9375   ,\n        111.6484375, 112.359375 , 113.0703125, 113.78125  , 114.4921875,\n        115.203125 , 115.9140625, 116.625    , 117.3359375, 118.046875 ,\n        118.7578125, 119.46875  , 120.1796875, 120.890625 , 121.6015625,\n        122.3125   , 123.0234375, 123.734375 , 124.4453125, 125.15625  ,\n        125.8671875, 126.578125 , 127.2890625, 128.       ]),\n <a list of 128 Patch objects>)"
     },
     "execution_count": 15,
     "metadata": {},
     "output_type": "execute_result"
    },
    {
     "data": {
      "text/plain": "<Figure size 432x288 with 1 Axes>",
      "image/png": "[encoded data removed]"
     },
     "metadata": {
      "needs_background": "light"
     },
     "output_type": "display_data"
    }
   ],
   "source": [
    "datalens = [len(d) for d in data]\n",
    "plt.hist(datalens,bins=128)"
   ],
   "metadata": {
    "collapsed": false,
    "pycharm": {
     "name": "#%%\n"
    }
   }
  },
  {
   "cell_type": "code",
   "execution_count": 6,
   "outputs": [
    {
     "name": "stdout",
     "output_type": "stream",
     "text": [
      "2032\n",
      "1018\n"
     ]
    }
   ],
   "source": [
    "# remove all entries len != 128\n",
    "# print(len(data))\n",
    "# for i, d in enumerate(data):\n",
    "#     if len(d) != 128:\n",
    "#         data.pop(i)\n",
    "#\n",
    "# print(len(data))"
   ],
   "metadata": {
    "collapsed": false,
    "pycharm": {
     "name": "#%%\n"
    }
   }
  }
 ],
 "metadata": {
  "kernelspec": {
   "display_name": "Python 3",
   "language": "python",
   "name": "python3"
  },
  "language_info": {
   "codemirror_mode": {
    "name": "ipython",
    "version": 2
   },
   "file_extension": ".py",
   "mimetype": "text/x-python",
   "name": "python",
   "nbconvert_exporter": "python",
   "pygments_lexer": "ipython2",
   "version": "2.7.6"
  }
 },
 "nbformat": 4,
 "nbformat_minor": 0
}