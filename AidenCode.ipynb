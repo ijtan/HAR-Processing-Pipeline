{
 "cells": [
  {
   "cell_type": "markdown",
   "metadata": {
    "collapsed": true,
    "pycharm": {
     "name": "#%% md\n"
    }
   },
   "source": [
    "# Read the Data\n"
   ]
  },
  {
   "cell_type": "code",
   "execution_count": 1,
   "outputs": [],
   "source": [
    "import calculations\n",
    "import matplotlib.pyplot as plt\n",
    "import numpy as np"
   ],
   "metadata": {
    "collapsed": false,
    "pycharm": {
     "name": "#%%\n"
    }
   },
   "outputs": [],
   "source": [
    "import calculations\n",
    "import matplotlib.pyplot as plt"
   ]
  },
  {
   "cell_type": "code",
   "execution_count": 2,
   "outputs": [
    {
     "name": "stderr",
     "output_type": "stream",
     "text": [
      "100%|██████████| 1948/1948 [00:01<00:00, 1308.26it/s]\n"
     ]
    }
   ],
   "source": [
    "data = calculations.get_data()"
   ],
   "metadata": {
    "collapsed": false,
    "pycharm": {
     "name": "#%%\n"
    }
   },
   "outputs": [],
   "source": [
    "data = calculations.get_data()"
   ]
  },
  {
   "cell_type": "code",
   "execution_count": 3,
   "outputs": [
    {
     "data": {
      "text/plain": "(array([  3.,  53.,   0., 117.,   0., 397., 407.,   0., 967.,   4.]),\n array([122. , 122.6, 123.2, 123.8, 124.4, 125. , 125.6, 126.2, 126.8,\n        127.4, 128. ]),\n <a list of 10 Patch objects>)"
     },
     "execution_count": 3,
     "metadata": {},
     "output_type": "execute_result"
    },
    {
     "data": {
      "text/plain": "<Figure size 432x288 with 1 Axes>",
      "image/png": "[encoded data removed]"
     },
     "metadata": {
      "needs_background": "light"
     },
     "output_type": "display_data"
    }
   ],
   "source": [
    "datalens = [len(d) for d in data]\n",
    "plt.hist(datalens)"
   ],
   "metadata": {
    "collapsed": false,
    "pycharm": {
     "name": "#%%\n"
    }
   }
  },
  {
   "cell_type": "code",
   "execution_count": 4,
   "outputs": [
    {
     "data": {
      "text/plain": "1948"
     },
     "execution_count": 4,
     "metadata": {},
     "output_type": "execute_result"
    }
   ],
   "source": [
    "len(data)"
   ],
   "metadata": {
    "collapsed": false,
    "pycharm": {
     "name": "#%%\n"
    }
   }
  },
  {
   "cell_type": "markdown",
   "source": [
    "# add Jerk"
   ],
   "metadata": {
    "collapsed": false,
    "pycharm": {
     "name": "#%% md\n"
    }
   }
  },
  {
   "cell_type": "code",
   "execution_count": 5,
   "outputs": [],
   "source": [
    "for d in data:\n",
    "    d['tBodyAccJerk-X'] = np.gradient(d.XA, 0.02)\n",
    "    d['tBodyAccJerk-Y'] = np.gradient(d.YA, 0.02)\n",
    "    d['tBodyAccJerk-Z'] = np.gradient(d.ZA, 0.02)\n",
    "    d['tBodyGyroJerk-X'] = np.gradient(d.XR, 0.02)\n",
    "    d['tBodyGyroJerk-Y'] = np.gradient(d.YR, 0.02)\n",
    "    d['tBodyGyroJerk-Z'] = np.gradient(d.ZR, 0.02)"
   ],
   "metadata": {
    "collapsed": false,
    "pycharm": {
     "name": "#%%\n"
    }
   },
   "outputs": [
    {
     "data": {
      "text/plain": "         XA        XR        YA        YR        ZA        ZR      lbl  \\\n0  3.664671 -0.153155  6.620615 -0.145422  6.225886  0.160349  DRIVING   \n1  3.815586 -0.317206  6.251712  0.000519  6.707377  0.078323  DRIVING   \n2  3.693416 -0.304422  6.072051 -0.062331  7.004417 -0.037790  DRIVING   \n3  3.482614 -0.125458  6.136729 -0.217860  7.018790 -0.078270  DRIVING   \n4  3.559270  0.096117  6.376276 -0.338234  7.018790 -0.019681  DRIVING   \n\n            time  tBodyAccJerk-X  tBodyAccJerk-Y  tBodyAccJerk-Z  \\\n0  1618068919996        7.545757      -18.445182       24.074554   \n1  1618068919996        0.718641      -13.714111       19.463265   \n2  1618068920008       -8.324289       -2.874577        7.785308   \n3  1618068920028       -3.353667        7.605636        0.359321   \n4  1618068920048        5.270052       10.480213       -2.874577   \n\n   tBodyGyroJerk-X  tBodyGyroJerk-Y  tBodyGyroJerk-Z  \n0        -8.202530         7.297056        -4.101264  \n1        -3.781686         2.077264        -4.953475  \n2         4.793686        -5.459475        -3.914843  \n3        10.013477        -6.897581         0.452737  \n4        12.170636        -5.619265         3.648528  ",
      "text/html": "<div>\n<style scoped>\n    .dataframe tbody tr th:only-of-type {\n        vertical-align: middle;\n    }\n\n    .dataframe tbody tr th {\n        vertical-align: top;\n    }\n\n    .dataframe thead th {\n        text-align: right;\n    }\n</style>\n<table border=\"1\" class=\"dataframe\">\n  <thead>\n    <tr style=\"text-align: right;\">\n      <th></th>\n      <th>XA</th>\n      <th>XR</th>\n      <th>YA</th>\n      <th>YR</th>\n      <th>ZA</th>\n      <th>ZR</th>\n      <th>lbl</th>\n      <th>time</th>\n      <th>tBodyAccJerk-X</th>\n      <th>tBodyAccJerk-Y</th>\n      <th>tBodyAccJerk-Z</th>\n      <th>tBodyGyroJerk-X</th>\n      <th>tBodyGyroJerk-Y</th>\n      <th>tBodyGyroJerk-Z</th>\n    </tr>\n  </thead>\n  <tbody>\n    <tr>\n      <th>0</th>\n      <td>3.664671</td>\n      <td>-0.153155</td>\n      <td>6.620615</td>\n      <td>-0.145422</td>\n      <td>6.225886</td>\n      <td>0.160349</td>\n      <td>DRIVING</td>\n      <td>1618068919996</td>\n      <td>7.545757</td>\n      <td>-18.445182</td>\n      <td>24.074554</td>\n      <td>-8.202530</td>\n      <td>7.297056</td>\n      <td>-4.101264</td>\n    </tr>\n    <tr>\n      <th>1</th>\n      <td>3.815586</td>\n      <td>-0.317206</td>\n      <td>6.251712</td>\n      <td>0.000519</td>\n      <td>6.707377</td>\n      <td>0.078323</td>\n      <td>DRIVING</td>\n      <td>1618068919996</td>\n      <td>0.718641</td>\n      <td>-13.714111</td>\n      <td>19.463265</td>\n      <td>-3.781686</td>\n      <td>2.077264</td>\n      <td>-4.953475</td>\n    </tr>\n    <tr>\n      <th>2</th>\n      <td>3.693416</td>\n      <td>-0.304422</td>\n      <td>6.072051</td>\n      <td>-0.062331</td>\n      <td>7.004417</td>\n      <td>-0.037790</td>\n      <td>DRIVING</td>\n      <td>1618068920008</td>\n      <td>-8.324289</td>\n      <td>-2.874577</td>\n      <td>7.785308</td>\n      <td>4.793686</td>\n      <td>-5.459475</td>\n      <td>-3.914843</td>\n    </tr>\n    <tr>\n      <th>3</th>\n      <td>3.482614</td>\n      <td>-0.125458</td>\n      <td>6.136729</td>\n      <td>-0.217860</td>\n      <td>7.018790</td>\n      <td>-0.078270</td>\n      <td>DRIVING</td>\n      <td>1618068920028</td>\n      <td>-3.353667</td>\n      <td>7.605636</td>\n      <td>0.359321</td>\n      <td>10.013477</td>\n      <td>-6.897581</td>\n      <td>0.452737</td>\n    </tr>\n    <tr>\n      <th>4</th>\n      <td>3.559270</td>\n      <td>0.096117</td>\n      <td>6.376276</td>\n      <td>-0.338234</td>\n      <td>7.018790</td>\n      <td>-0.019681</td>\n      <td>DRIVING</td>\n      <td>1618068920048</td>\n      <td>5.270052</td>\n      <td>10.480213</td>\n      <td>-2.874577</td>\n      <td>12.170636</td>\n      <td>-5.619265</td>\n      <td>3.648528</td>\n    </tr>\n  </tbody>\n</table>\n</div>"
     },
     "execution_count": 6,
     "metadata": {},
     "output_type": "execute_result"
    }
   ],
   "source": [
    "data[0].head()"
   ],
   "metadata": {
    "collapsed": false,
    "pycharm": {
     "name": "#%%\n"
    }
   }
  },
  {
   "cell_type": "markdown",
   "source": [
    "# add Mag"
   ],
   "metadata": {
    "collapsed": false,
    "pycharm": {
     "name": "#%% md\n"
    }
   }
  },
  {
   "cell_type": "code",
   "execution_count": 7,
   "outputs": [],
   "source": [
    "d = data[0]\n",
    "import math\n",
    "def mag_3_signals(x,y,z):# magnitude function redefintion\n",
    "    return np.array([math.sqrt((x[i]**2+y[i]**2+z[i]**2)) for i in range(len(x))])\n",
    "accMag = mag_3_signals(d.XA, d.YA, d.ZA)"
   ],
   "metadata": {
    "collapsed": false,
    "pycharm": {
     "name": "#%%\n"
    }
   }
  },
  {
   "cell_type": "code",
   "execution_count": 9,
   "outputs": [
    {
     "name": "stdout",
     "output_type": "stream",
     "text": [
      "[ 9.79918474  9.93133971  9.97862641  9.95245959 10.12860861 10.21196283\n",
      "  9.76233167  9.26739514  9.61049063 10.04991959 10.0874786   9.81659815\n",
      "  9.39346362  9.32349186  9.39262833  9.72155629  9.43165909 10.13435048\n",
      " 10.40833339 10.08305396  9.23809746  8.71476817 11.24105829 13.65250335\n",
      "  8.69336457 10.05489566  9.25486728  8.56258313  8.84403067  9.2652905\n",
      "  8.94725349  8.75427449  8.31297804  5.3096918   4.37194431  5.70416919\n",
      "  6.41273783  8.39516154 11.02901007 11.79376879 14.78068922 16.43860298\n",
      " 12.30300523 10.45572338  9.58082235 10.71155841 12.05735026 11.7502791\n",
      " 10.78784345  9.33553733  9.43932203 11.28113841 13.36431173 14.89919191\n",
      " 13.98273612 13.9280379  12.00028516 11.21770022 12.67577219 12.73341149\n",
      " 13.95731553 15.04448104  5.36658507  6.67611285  7.3904396  10.37524422\n",
      " 10.53554851  9.6504526   9.05222159  9.10897786 15.14085901 15.21980096\n",
      " 10.42158646  9.65855695  9.71555195  8.65782888  8.93657096 10.38596989\n",
      " 12.66063907 12.51579959 13.76268608  4.0426461   8.00341961 10.38476474\n",
      " 12.66883855 15.43620239 12.53100938 18.79467208 19.1980266  11.8375565\n",
      "  9.9642639   5.29183395 13.44710474 11.81378887  8.92586196  8.57579728\n",
      " 11.27491416 10.43269909  9.32533007 10.14448342 12.70597576 13.09250107\n",
      " 12.79329264  9.98625693  6.44253398 10.69149561  9.40507529  9.74565683\n",
      " 11.063014   11.80557272 12.85844709 11.24403499  8.92993256  9.24350536\n",
      "  8.73749631  8.94005188 10.21845139 11.16294219 10.63093512  9.87935126\n",
      " 10.91282518 11.81346266 11.16381239  9.68151559  7.75688712  9.32012628\n",
      " 10.64603737]\n"
     ]
    }
   ],
   "source": [
    "print(accMag)\n"
   ],
   "metadata": {
    "collapsed": false,
    "pycharm": {
     "name": "#%%\n"
    }
   }
  }
 ],
 "metadata": {
  "language_info": {},
  "orig_nbformat": 3
 },
 "nbformat": 4,
 "nbformat_minor": 0
}