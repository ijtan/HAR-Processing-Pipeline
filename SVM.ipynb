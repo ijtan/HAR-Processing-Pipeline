{
 "cells": [
  {
   "cell_type": "markdown",
   "source": [
    "# Data Analysis and Classic Machine Learning Techniques\n",
    "***\n",
    "# Table of Contents\n",
    "1.   [Imports](#Imports)\n",
    "2.   [Loading The Dataset](#Loading-The-Dataset)\n",
    "3.   [Data Analysis](#Data-Analysis)\n",
    "4.   [Data Pre-Processing](#Data-Pre-Processing)\n",
    "4.   [Different Model Comparison](#Different-Model-Comparison)\n",
    "5.   [Support Vector Machine](#Support-Vector-Machine)\n"
   ],
   "metadata": {
    "collapsed": false
   }
  },
  {
   "cell_type": "markdown",
   "source": [
    "# Imports\n",
    "\n",
    "The necessary libraries are imported at this stage.\n",
    "\n",
    "* pandas - Dataframe object is useful for data processing and analyses.\n",
    "* sklearn - Provides a number of models, metrics and general functionality for machine learning.\n",
    "* matplotlib - Provides plotting."
   ],
   "metadata": {
    "collapsed": false
   }
  },
  {
   "cell_type": "code",
   "execution_count": 1,
   "outputs": [],
   "source": [
    "import pandas as pd\n",
    "from time import time\n",
    "from IPython.display import display # Allows the use of display() for DataFrames\n",
    "import itertools\n",
    "import numpy as np\n",
    "#from google.colab import drive #Only needed on Colab\n",
    "import matplotlib.pyplot as plt\n",
    "from sklearn.utils import shuffle\n",
    "from sklearn import preprocessing\n",
    "from sklearn.preprocessing import StandardScaler\n",
    "from sklearn.naive_bayes import GaussianNB\n",
    "from sklearn.ensemble import AdaBoostClassifier\n",
    "from sklearn.svm import SVC\n",
    "from sklearn.metrics import accuracy_score, fbeta_score, precision_score, recall_score, confusion_matrix, make_scorer\n",
    "from sklearn.model_selection import GridSearchCV, train_test_split\n",
    "# Pretty display for notebooks\n",
    "%matplotlib inline"
   ],
   "metadata": {
    "collapsed": false,
    "pycharm": {
     "name": "#%%\n"
    }
   }
  },
  {
   "cell_type": "markdown",
   "source": [
    "# Loading The Dataset\n",
    "\n",
    "In this section we load the dataset first from a single file.\n",
    "\n",
    "Using **sklearn** functions, this dataset is split into the training and testing data, which are then exported as CSV files."
   ],
   "metadata": {
    "collapsed": false
   }
  },
  {
   "cell_type": "code",
   "execution_count": 18,
   "outputs": [
    {
     "output_type": "display_data",
     "data": {
      "text/plain": "     Label  fBodyAcc-X-energy()  fBodyAcc-X-entropy()  fBodyAcc-X-iqr()  \\\n0  DRIVING         34102.078766              4.406613         13.644394   \n\n   fBodyAcc-X-kurtosis  fBodyAcc-X-mad()  fBodyAcc-X-max()  \\\n0             1.214003           6.55364         48.215444   \n\n   fBodyAcc-X-maxInds  fBodyAcc-X-mean()  fBodyAcc-X-min()  ...  \\\n0            5.859375          11.819651          0.331383  ...   \n\n   tGravityAcc-Z-std()  tGravityAcc-sma()  tGravityAccMag-energy()  \\\n0             0.689405           9.490107             11437.980504   \n\n   tGravityAccMag-entropy()  tGravityAccMag-iqr()  tGravityAccMag-mad()  \\\n0                  4.844183              0.055572              0.028021   \n\n   tGravityAccMag-max()  tGravityAccMag-mean()  tGravityAccMag-min()  \\\n0               9.52147               9.490107               9.45153   \n\n   tGravityAccMag-std()  \n0              0.026576  \n\n[1 rows x 326 columns]",
      "text/html": "<div>\n<style scoped>\n    .dataframe tbody tr th:only-of-type {\n        vertical-align: middle;\n    }\n\n    .dataframe tbody tr th {\n        vertical-align: top;\n    }\n\n    .dataframe thead th {\n        text-align: right;\n    }\n</style>\n<table border=\"1\" class=\"dataframe\">\n  <thead>\n    <tr style=\"text-align: right;\">\n      <th></th>\n      <th>Label</th>\n      <th>fBodyAcc-X-energy()</th>\n      <th>fBodyAcc-X-entropy()</th>\n      <th>fBodyAcc-X-iqr()</th>\n      <th>fBodyAcc-X-kurtosis</th>\n      <th>fBodyAcc-X-mad()</th>\n      <th>fBodyAcc-X-max()</th>\n      <th>fBodyAcc-X-maxInds</th>\n      <th>fBodyAcc-X-mean()</th>\n      <th>fBodyAcc-X-min()</th>\n      <th>...</th>\n      <th>tGravityAcc-Z-std()</th>\n      <th>tGravityAcc-sma()</th>\n      <th>tGravityAccMag-energy()</th>\n      <th>tGravityAccMag-entropy()</th>\n      <th>tGravityAccMag-iqr()</th>\n      <th>tGravityAccMag-mad()</th>\n      <th>tGravityAccMag-max()</th>\n      <th>tGravityAccMag-mean()</th>\n      <th>tGravityAccMag-min()</th>\n      <th>tGravityAccMag-std()</th>\n    </tr>\n  </thead>\n  <tbody>\n    <tr>\n      <th>0</th>\n      <td>DRIVING</td>\n      <td>34102.078766</td>\n      <td>4.406613</td>\n      <td>13.644394</td>\n      <td>1.214003</td>\n      <td>6.55364</td>\n      <td>48.215444</td>\n      <td>5.859375</td>\n      <td>11.819651</td>\n      <td>0.331383</td>\n      <td>...</td>\n      <td>0.689405</td>\n      <td>9.490107</td>\n      <td>11437.980504</td>\n      <td>4.844183</td>\n      <td>0.055572</td>\n      <td>0.028021</td>\n      <td>9.52147</td>\n      <td>9.490107</td>\n      <td>9.45153</td>\n      <td>0.026576</td>\n    </tr>\n  </tbody>\n</table>\n<p>1 rows × 326 columns</p>\n</div>"
     },
     "metadata": {}
    }
   ],
   "source": [
    "#mount drive\n",
    "#drive.mount(\"/content/drive\")\n",
    "#path_to_data = \"\" #\"drive/MyDrive/Kaggle/\"\n",
    "\n",
    "all_data = pd.read_csv(\"Our Datasets/\" + \"all data.csv\", encoding=\"utf-8\")\n",
    "display(all_data.head(n=1))\n",
    "#train = pd.read_csv(path_to_data + \"train - OG.csv\")\n",
    "#test = pd.read_csv(path_to_data + \"test.csv\")\n",
    "\n",
    "#Check it loaded ok\n",
    "#display(train.head(n=1))\n",
    "#display(test.head(n=1))"
   ],
   "metadata": {
    "collapsed": false,
    "pycharm": {
     "name": "#%%\n"
    }
   }
  },
  {
   "cell_type": "code",
   "execution_count": 19,
   "metadata": {},
   "outputs": [
    {
     "output_type": "stream",
     "name": "stdout",
     "text": [
      "\nX_train:\n\n      fBodyAcc-X-energy()  fBodyAcc-X-entropy()  fBodyAcc-X-iqr()  \\\n1919            10.908063              4.105128          0.186068   \n104           9039.668251              3.976926          2.878426   \n1979           405.815722              4.250256          1.676001   \n2070            29.749236              4.410227          0.468700   \n1737          2020.762964              3.973441          1.792127   \n\n      fBodyAcc-X-kurtosis  fBodyAcc-X-mad()  fBodyAcc-X-max()  \\\n1919            11.172632          0.053154          1.444692   \n104              8.996587          1.325425         38.144596   \n1979             0.345638          0.313110          5.113486   \n2070             0.253778          0.219016          1.343549   \n1737            18.491730          0.253456         22.671539   \n\n      fBodyAcc-X-maxInds  fBodyAcc-X-mean()  fBodyAcc-X-min()  \\\n1919            3.515625           0.163450          0.005989   \n104             2.343750           4.301446          0.063704   \n1979            0.390625           1.181314          0.035321   \n2070            8.984375           0.361438          0.000509   \n1737            0.781250           1.919388          0.156011   \n\n      fBodyAcc-X-skewness  ...  tGravityAcc-Z-std()  tGravityAcc-sma()  \\\n1919             3.051231  ...             0.002984           9.827548   \n104              3.000650  ...             0.067904           9.763154   \n1979             1.236304  ...             0.031545          10.023937   \n2070             0.918276  ...             0.022288           9.976626   \n1737             3.990875  ...             0.107369           9.848132   \n\n      tGravityAccMag-energy()  tGravityAccMag-entropy()  tGravityAccMag-iqr()  \\\n1919             12169.171931                  4.836282              0.008337   \n104              12011.706528                  4.836220              0.145237   \n1979             12661.060226                  4.836256              0.112136   \n2070             12541.166599                  4.836282              0.005236   \n1737             12317.712499                  4.844166              0.081792   \n\n      tGravityAccMag-mad()  tGravityAccMag-max()  tGravityAccMag-mean()  \\\n1919              0.001954              9.832433               9.827548   \n104               0.030450              9.850047               9.763154   \n1979              0.032181             10.089327              10.023937   \n2070              0.001358              9.979621               9.976626   \n1737              0.018756             10.025356               9.848132   \n\n      tGravityAccMag-min()  tGravityAccMag-std()  \n1919              9.812829              0.005884  \n104               9.477824              0.109221  \n1979              9.852546              0.072969  \n2070              9.968551              0.003439  \n1737              9.796890              0.064691  \n\n[5 rows x 325 columns]\n(1699, 325)\n\nX_test:\n\n      fBodyAcc-X-energy()  fBodyAcc-X-entropy()  fBodyAcc-X-iqr()  \\\n1508        393805.740206              4.324654         46.496947   \n622           1677.057051              4.124648          2.042063   \n927         196709.305270              4.287358         29.848181   \n335           4463.566245              4.262811          3.003959   \n1500        154318.441959              4.231520         31.839876   \n\n      fBodyAcc-X-kurtosis  fBodyAcc-X-mad()  fBodyAcc-X-max()  \\\n1508             2.266813         15.745692        172.851871   \n622              4.991934          0.590636         14.795877   \n927              8.750727         12.887020        178.238193   \n335             21.478245          1.515282         32.237244   \n1500             3.260115         11.710963        126.554601   \n\n      fBodyAcc-X-maxInds  fBodyAcc-X-mean()  fBodyAcc-X-min()  \\\n1508            6.250000          37.530812          0.843499   \n622             3.906250           2.095755          0.152944   \n927             4.296875          26.142703          0.164524   \n335             0.781250           3.357617          0.261604   \n1500            5.859375          22.830055          0.015965   \n\n      fBodyAcc-X-skewness  ...  tGravityAcc-Z-std()  tGravityAcc-sma()  \\\n1508             1.649734  ...             0.401691           9.779974   \n622              2.241003  ...             0.061914           9.811399   \n927              2.491769  ...             0.693016          10.173025   \n335              4.378932  ...             0.146001           9.989101   \n1500             1.749550  ...             0.065178          10.152210   \n\n      tGravityAccMag-energy()  tGravityAccMag-entropy()  tGravityAccMag-iqr()  \\\n1508             13304.659229                  4.778563              5.957864   \n622              12226.634733                  4.844139              0.140022   \n927              13567.722701                  4.793589              3.307608   \n335              12574.685222                  4.836197              0.155837   \n1500             12886.850100                  4.828180              0.216817   \n\n      tGravityAccMag-mad()  tGravityAccMag-max()  tGravityAccMag-mean()  \\\n1508              1.511077             12.765217               9.779974   \n622               0.037297              9.894242               9.811399   \n927               0.784261             16.538298              10.173025   \n335               0.018121             10.084398               9.989101   \n1500              0.041413             10.281517              10.152210   \n\n      tGravityAccMag-min()  tGravityAccMag-std()  \n1508              4.176578              3.166103  \n622               9.574578              0.096096  \n927               8.172490              2.444355  \n335               9.636094              0.130683  \n1500              9.717482              0.166265  \n\n[5 rows x 325 columns]\n(425, 325)\n\ny_train:\n\n1919     SITTING\n104      DRIVING\n1979     SITTING\n2070    STANDING\n1737     SITTING\nName: Label, dtype: object\n(1699,)\n\ny_test:\n\n1508    STAIRS DN\n622       DRIVING\n927       WALKING\n335       DRIVING\n1500    STAIRS DN\nName: Label, dtype: object\n(425,)\n"
     ]
    }
   ],
   "source": [
    "y = all_data.Label\n",
    "X = all_data.drop('Label', axis=1)\n",
    "X_train, X_test, y_train, y_test = train_test_split(X, y,test_size=0.2) #Splits 80% for training, 20% for testing\n",
    "\n",
    "print(\"\\nX_train:\\n\")\n",
    "print(X_train.head())\n",
    "print(X_train.shape)\n",
    "\n",
    "print(\"\\nX_test:\\n\")\n",
    "print(X_test.head())\n",
    "print(X_test.shape)\n",
    "\n",
    "print(\"\\ny_train:\\n\")\n",
    "print(y_train.head())\n",
    "print(y_train.shape)\n",
    "\n",
    "print(\"\\ny_test:\\n\")\n",
    "print(y_test.head())\n",
    "print(y_test.shape)"
   ]
  },
  {
   "cell_type": "markdown",
   "source": [
    "# Data Analysis\n",
    "\n",
    "In this section analysis over the data is done to determine the processing steps necessary for the [next section](#Data-Pre-Processing).\n",
    "\n",
    "## Check for Common Elements\n",
    "\n",
    "The training and test data are merged using inner join to see if there is any overlapping data. The output is an empty data frame - containing only the list of different features - meaning that there are no intersections between the two."
   ],
   "metadata": {
    "collapsed": false
   }
  },
  {
   "cell_type": "code",
   "execution_count": 20,
   "outputs": [
    {
     "output_type": "stream",
     "name": "stdout",
     "text": [
      "Empty DataFrame\nColumns: [fBodyAcc-X-energy(), fBodyAcc-X-entropy(), fBodyAcc-X-iqr(), fBodyAcc-X-kurtosis, fBodyAcc-X-mad(), fBodyAcc-X-max(), fBodyAcc-X-maxInds, fBodyAcc-X-mean(), fBodyAcc-X-min(), fBodyAcc-X-skewness, fBodyAcc-X-std(), fBodyAcc-Y-energy(), fBodyAcc-Y-entropy(), fBodyAcc-Y-iqr(), fBodyAcc-Y-kurtosis, fBodyAcc-Y-mad(), fBodyAcc-Y-max(), fBodyAcc-Y-maxInds, fBodyAcc-Y-mean(), fBodyAcc-Y-min(), fBodyAcc-Y-skewness, fBodyAcc-Y-std(), fBodyAcc-Z-energy(), fBodyAcc-Z-entropy(), fBodyAcc-Z-iqr(), fBodyAcc-Z-kurtosis, fBodyAcc-Z-mad(), fBodyAcc-Z-max(), fBodyAcc-Z-maxInds, fBodyAcc-Z-mean(), fBodyAcc-Z-min(), fBodyAcc-Z-skewness, fBodyAcc-Z-std(), fBodyAcc-sma(), fBodyAccJerk-X-energy(), fBodyAccJerk-X-entropy(), fBodyAccJerk-X-iqr(), fBodyAccJerk-X-kurtosis, fBodyAccJerk-X-mad(), fBodyAccJerk-X-max(), fBodyAccJerk-X-maxInds, fBodyAccJerk-X-mean(), fBodyAccJerk-X-min(), fBodyAccJerk-X-skewness, fBodyAccJerk-X-std(), fBodyAccJerk-Y-energy(), fBodyAccJerk-Y-entropy(), fBodyAccJerk-Y-iqr(), fBodyAccJerk-Y-kurtosis, fBodyAccJerk-Y-mad(), fBodyAccJerk-Y-max(), fBodyAccJerk-Y-maxInds, fBodyAccJerk-Y-mean(), fBodyAccJerk-Y-min(), fBodyAccJerk-Y-skewness, fBodyAccJerk-Y-std(), fBodyAccJerk-Z-energy(), fBodyAccJerk-Z-entropy(), fBodyAccJerk-Z-iqr(), fBodyAccJerk-Z-kurtosis, fBodyAccJerk-Z-mad(), fBodyAccJerk-Z-max(), fBodyAccJerk-Z-maxInds, fBodyAccJerk-Z-mean(), fBodyAccJerk-Z-min(), fBodyAccJerk-Z-skewness, fBodyAccJerk-Z-std(), fBodyAccJerk-sma(), fBodyAccJerkMag-energy(), fBodyAccJerkMag-entropy(), fBodyAccJerkMag-iqr(), fBodyAccJerkMag-kurtosis, fBodyAccJerkMag-mad(), fBodyAccJerkMag-max(), fBodyAccJerkMag-maxInds, fBodyAccJerkMag-mean(), fBodyAccJerkMag-min(), fBodyAccJerkMag-skewness, fBodyAccJerkMag-std(), fBodyAccMag-energy(), fBodyAccMag-entropy(), fBodyAccMag-iqr(), fBodyAccMag-kurtosis, fBodyAccMag-mad(), fBodyAccMag-max(), fBodyAccMag-maxInds, fBodyAccMag-mean(), fBodyAccMag-min(), fBodyAccMag-skewness, fBodyAccMag-std(), fBodyGyro-X-energy(), fBodyGyro-X-entropy(), fBodyGyro-X-iqr(), fBodyGyro-X-kurtosis, fBodyGyro-X-mad(), fBodyGyro-X-max(), fBodyGyro-X-maxInds, fBodyGyro-X-mean(), fBodyGyro-X-min(), fBodyGyro-X-skewness, ...]\nIndex: []\n\n[0 rows x 325 columns]\n"
     ]
    }
   ],
   "source": [
    "merged = pd.merge(X_train, X_test, how='inner')\n",
    "print(merged)"
   ],
   "metadata": {
    "collapsed": false,
    "pycharm": {
     "name": "#%%\n"
    }
   }
  },
  {
   "cell_type": "markdown",
   "source": [
    "## Shuffle the data"
   ],
   "metadata": {
    "collapsed": false
   }
  },
  {
   "cell_type": "code",
   "execution_count": 21,
   "outputs": [],
   "source": [
    "X_train = shuffle(X_train)\n",
    "X_test = shuffle(X_test)"
   ],
   "metadata": {
    "collapsed": false,
    "pycharm": {
     "name": "#%%\n"
    }
   }
  },
  {
   "cell_type": "markdown",
   "source": [
    "## Check for null values in rows"
   ],
   "metadata": {
    "collapsed": false
   }
  },
  {
   "cell_type": "code",
   "execution_count": 22,
   "outputs": [
    {
     "output_type": "stream",
     "name": "stdout",
     "text": [
      "Any missing sample in training set: False\nAny missing sample in test set: False \n\n"
     ]
    }
   ],
   "source": [
    "print(\"Any missing sample in training set:\", X_train.isnull().values.any())\n",
    "print(\"Any missing sample in test set:\", X_test.isnull().values.any(), \"\\n\")"
   ],
   "metadata": {
    "collapsed": false,
    "pycharm": {
     "name": "#%%\n"
    }
   }
  },
  {
   "cell_type": "markdown",
   "source": [
    "## Label Distribution\n",
    "\n",
    "### Label Distribution in a Pie Chart"
   ],
   "metadata": {
    "collapsed": false
   }
  },
  {
   "cell_type": "code",
   "execution_count": 28,
   "outputs": [
    {
     "output_type": "error",
     "ename": "AttributeError",
     "evalue": "'str' object has no attribute 'value_counts'",
     "traceback": [
      "\u001b[1;31m---------------------------------------------------------------------------\u001b[0m",
      "\u001b[1;31mAttributeError\u001b[0m                            Traceback (most recent call last)",
      "\u001b[1;32m<ipython-input-28-c97ed0d8330b>\u001b[0m in \u001b[0;36m<module>\u001b[1;34m\u001b[0m\n\u001b[0;32m      1\u001b[0m \u001b[1;31m# Visualizing Activity Distribution\u001b[0m\u001b[1;33m\u001b[0m\u001b[1;33m\u001b[0m\u001b[1;33m\u001b[0m\u001b[0m\n\u001b[1;32m----> 2\u001b[1;33m \u001b[0mtemp\u001b[0m \u001b[1;33m=\u001b[0m \u001b[0my_train\u001b[0m\u001b[1;33m.\u001b[0m\u001b[0miloc\u001b[0m\u001b[1;33m[\u001b[0m\u001b[1;36m1\u001b[0m\u001b[1;33m]\u001b[0m\u001b[1;33m.\u001b[0m\u001b[0mvalue_counts\u001b[0m\u001b[1;33m(\u001b[0m\u001b[1;33m)\u001b[0m\u001b[1;33m\u001b[0m\u001b[1;33m\u001b[0m\u001b[0m\n\u001b[0m\u001b[0;32m      3\u001b[0m df = pd.DataFrame({'labels': temp.index,\n\u001b[0;32m      4\u001b[0m                    \u001b[1;34m'values'\u001b[0m\u001b[1;33m:\u001b[0m \u001b[0mtemp\u001b[0m\u001b[1;33m.\u001b[0m\u001b[0mvalues\u001b[0m\u001b[1;33m\u001b[0m\u001b[1;33m\u001b[0m\u001b[0m\n\u001b[0;32m      5\u001b[0m                   })\n",
      "\u001b[1;31mAttributeError\u001b[0m: 'str' object has no attribute 'value_counts'"
     ]
    }
   ],
   "source": [
    "# Visualizing Activity Distribution\n",
    "temp = y_train.iloc[2].value_counts()\n",
    "df = pd.DataFrame({'labels': temp.index,\n",
    "                   'values': temp.values\n",
    "                  })\n",
    "\n",
    "labels = df['labels']\n",
    "sizes = df['values']\n",
    "colors = ['yellowgreen', 'gold', 'lightskyblue', 'lightcoral','cyan','lightpink']\n",
    "patches, texts = plt.pie(sizes, colors=colors, shadow=True, startangle=90, pctdistance=1.1, labeldistance=1.2)\n",
    "plt.legend(patches, labels, loc=\"best\")\n",
    "plt.axis('equal')\n",
    "plt.tight_layout()\n",
    "plt.show()"
   ],
   "metadata": {
    "collapsed": false,
    "pycharm": {
     "name": "#%%\n"
    }
   }
  },
  {
   "cell_type": "markdown",
   "source": [
    "### Label Distribution in a Column Format"
   ],
   "metadata": {
    "collapsed": false
   }
  },
  {
   "cell_type": "code",
   "execution_count": 29,
   "outputs": [
    {
     "output_type": "error",
     "ename": "KeyError",
     "evalue": "'Label'",
     "traceback": [
      "\u001b[1;31m---------------------------------------------------------------------------\u001b[0m",
      "\u001b[1;31mKeyError\u001b[0m                                  Traceback (most recent call last)",
      "\u001b[1;32m~\\AppData\\Local\\Programs\\Python\\Python38\\lib\\site-packages\\pandas\\core\\indexes\\base.py\u001b[0m in \u001b[0;36mget_loc\u001b[1;34m(self, key, method, tolerance)\u001b[0m\n\u001b[0;32m   3079\u001b[0m             \u001b[1;32mtry\u001b[0m\u001b[1;33m:\u001b[0m\u001b[1;33m\u001b[0m\u001b[1;33m\u001b[0m\u001b[0m\n\u001b[1;32m-> 3080\u001b[1;33m                 \u001b[1;32mreturn\u001b[0m \u001b[0mself\u001b[0m\u001b[1;33m.\u001b[0m\u001b[0m_engine\u001b[0m\u001b[1;33m.\u001b[0m\u001b[0mget_loc\u001b[0m\u001b[1;33m(\u001b[0m\u001b[0mcasted_key\u001b[0m\u001b[1;33m)\u001b[0m\u001b[1;33m\u001b[0m\u001b[1;33m\u001b[0m\u001b[0m\n\u001b[0m\u001b[0;32m   3081\u001b[0m             \u001b[1;32mexcept\u001b[0m \u001b[0mKeyError\u001b[0m \u001b[1;32mas\u001b[0m \u001b[0merr\u001b[0m\u001b[1;33m:\u001b[0m\u001b[1;33m\u001b[0m\u001b[1;33m\u001b[0m\u001b[0m\n",
      "\u001b[1;32mpandas\\_libs\\index.pyx\u001b[0m in \u001b[0;36mpandas._libs.index.IndexEngine.get_loc\u001b[1;34m()\u001b[0m\n",
      "\u001b[1;32mpandas\\_libs\\index.pyx\u001b[0m in \u001b[0;36mpandas._libs.index.IndexEngine.get_loc\u001b[1;34m()\u001b[0m\n",
      "\u001b[1;32mpandas\\_libs\\index_class_helper.pxi\u001b[0m in \u001b[0;36mpandas._libs.index.Int64Engine._check_type\u001b[1;34m()\u001b[0m\n",
      "\u001b[1;31mKeyError\u001b[0m: 'Label'",
      "\nThe above exception was the direct cause of the following exception:\n",
      "\u001b[1;31mKeyError\u001b[0m                                  Traceback (most recent call last)",
      "\u001b[1;32m<ipython-input-29-0b9554a361a3>\u001b[0m in \u001b[0;36m<module>\u001b[1;34m\u001b[0m\n\u001b[1;32m----> 1\u001b[1;33m train_outcome = pd.crosstab(index=y_train[\"Label\"],\n\u001b[0m\u001b[0;32m      2\u001b[0m                               columns=\"count\")\n\u001b[0;32m      3\u001b[0m \u001b[1;33m\u001b[0m\u001b[0m\n\u001b[0;32m      4\u001b[0m \u001b[0mtrain_outcome\u001b[0m\u001b[1;33m\u001b[0m\u001b[1;33m\u001b[0m\u001b[0m\n",
      "\u001b[1;32m~\\AppData\\Local\\Programs\\Python\\Python38\\lib\\site-packages\\pandas\\core\\series.py\u001b[0m in \u001b[0;36m__getitem__\u001b[1;34m(self, key)\u001b[0m\n\u001b[0;32m    851\u001b[0m \u001b[1;33m\u001b[0m\u001b[0m\n\u001b[0;32m    852\u001b[0m         \u001b[1;32melif\u001b[0m \u001b[0mkey_is_scalar\u001b[0m\u001b[1;33m:\u001b[0m\u001b[1;33m\u001b[0m\u001b[1;33m\u001b[0m\u001b[0m\n\u001b[1;32m--> 853\u001b[1;33m             \u001b[1;32mreturn\u001b[0m \u001b[0mself\u001b[0m\u001b[1;33m.\u001b[0m\u001b[0m_get_value\u001b[0m\u001b[1;33m(\u001b[0m\u001b[0mkey\u001b[0m\u001b[1;33m)\u001b[0m\u001b[1;33m\u001b[0m\u001b[1;33m\u001b[0m\u001b[0m\n\u001b[0m\u001b[0;32m    854\u001b[0m \u001b[1;33m\u001b[0m\u001b[0m\n\u001b[0;32m    855\u001b[0m         \u001b[1;32mif\u001b[0m \u001b[0mis_hashable\u001b[0m\u001b[1;33m(\u001b[0m\u001b[0mkey\u001b[0m\u001b[1;33m)\u001b[0m\u001b[1;33m:\u001b[0m\u001b[1;33m\u001b[0m\u001b[1;33m\u001b[0m\u001b[0m\n",
      "\u001b[1;32m~\\AppData\\Local\\Programs\\Python\\Python38\\lib\\site-packages\\pandas\\core\\series.py\u001b[0m in \u001b[0;36m_get_value\u001b[1;34m(self, label, takeable)\u001b[0m\n\u001b[0;32m    959\u001b[0m \u001b[1;33m\u001b[0m\u001b[0m\n\u001b[0;32m    960\u001b[0m         \u001b[1;31m# Similar to Index.get_value, but we do not fall back to positional\u001b[0m\u001b[1;33m\u001b[0m\u001b[1;33m\u001b[0m\u001b[1;33m\u001b[0m\u001b[0m\n\u001b[1;32m--> 961\u001b[1;33m         \u001b[0mloc\u001b[0m \u001b[1;33m=\u001b[0m \u001b[0mself\u001b[0m\u001b[1;33m.\u001b[0m\u001b[0mindex\u001b[0m\u001b[1;33m.\u001b[0m\u001b[0mget_loc\u001b[0m\u001b[1;33m(\u001b[0m\u001b[0mlabel\u001b[0m\u001b[1;33m)\u001b[0m\u001b[1;33m\u001b[0m\u001b[1;33m\u001b[0m\u001b[0m\n\u001b[0m\u001b[0;32m    962\u001b[0m         \u001b[1;32mreturn\u001b[0m \u001b[0mself\u001b[0m\u001b[1;33m.\u001b[0m\u001b[0mindex\u001b[0m\u001b[1;33m.\u001b[0m\u001b[0m_get_values_for_loc\u001b[0m\u001b[1;33m(\u001b[0m\u001b[0mself\u001b[0m\u001b[1;33m,\u001b[0m \u001b[0mloc\u001b[0m\u001b[1;33m,\u001b[0m \u001b[0mlabel\u001b[0m\u001b[1;33m)\u001b[0m\u001b[1;33m\u001b[0m\u001b[1;33m\u001b[0m\u001b[0m\n\u001b[0;32m    963\u001b[0m \u001b[1;33m\u001b[0m\u001b[0m\n",
      "\u001b[1;32m~\\AppData\\Local\\Programs\\Python\\Python38\\lib\\site-packages\\pandas\\core\\indexes\\base.py\u001b[0m in \u001b[0;36mget_loc\u001b[1;34m(self, key, method, tolerance)\u001b[0m\n\u001b[0;32m   3080\u001b[0m                 \u001b[1;32mreturn\u001b[0m \u001b[0mself\u001b[0m\u001b[1;33m.\u001b[0m\u001b[0m_engine\u001b[0m\u001b[1;33m.\u001b[0m\u001b[0mget_loc\u001b[0m\u001b[1;33m(\u001b[0m\u001b[0mcasted_key\u001b[0m\u001b[1;33m)\u001b[0m\u001b[1;33m\u001b[0m\u001b[1;33m\u001b[0m\u001b[0m\n\u001b[0;32m   3081\u001b[0m             \u001b[1;32mexcept\u001b[0m \u001b[0mKeyError\u001b[0m \u001b[1;32mas\u001b[0m \u001b[0merr\u001b[0m\u001b[1;33m:\u001b[0m\u001b[1;33m\u001b[0m\u001b[1;33m\u001b[0m\u001b[0m\n\u001b[1;32m-> 3082\u001b[1;33m                 \u001b[1;32mraise\u001b[0m \u001b[0mKeyError\u001b[0m\u001b[1;33m(\u001b[0m\u001b[0mkey\u001b[0m\u001b[1;33m)\u001b[0m \u001b[1;32mfrom\u001b[0m \u001b[0merr\u001b[0m\u001b[1;33m\u001b[0m\u001b[1;33m\u001b[0m\u001b[0m\n\u001b[0m\u001b[0;32m   3083\u001b[0m \u001b[1;33m\u001b[0m\u001b[0m\n\u001b[0;32m   3084\u001b[0m         \u001b[1;32mif\u001b[0m \u001b[0mtolerance\u001b[0m \u001b[1;32mis\u001b[0m \u001b[1;32mnot\u001b[0m \u001b[1;32mNone\u001b[0m\u001b[1;33m:\u001b[0m\u001b[1;33m\u001b[0m\u001b[1;33m\u001b[0m\u001b[0m\n",
      "\u001b[1;31mKeyError\u001b[0m: 'Label'"
     ]
    }
   ],
   "source": [
    "train_outcome = pd.crosstab(index=y_train[\"Label\"],\n",
    "                              columns=\"count\")\n",
    "\n",
    "train_outcome"
   ],
   "metadata": {
    "collapsed": false,
    "pycharm": {
     "name": "#%%\n"
    }
   }
  },
  {
   "cell_type": "markdown",
   "source": [
    "# Data Pre-Processing\n",
    "\n",
    "The dataset only requires a small number of pre-processing mainly, splitting the sets into X and y variables, categorical\n",
    "variable encoding (for the label), and scaling.\n",
    "\n",
    "The *activity* and *subject* columns are removed from the training and test data. **Y_train_label** and **Y_test_label** are the classifications of the activity of each row in the respective dataframes."
   ],
   "metadata": {
    "collapsed": false
   }
  },
  {
   "cell_type": "code",
   "execution_count": 31,
   "outputs": [
    {
     "output_type": "error",
     "ename": "AttributeError",
     "evalue": "'Series' object has no attribute 'Activity'",
     "traceback": [
      "\u001b[1;31m---------------------------------------------------------------------------\u001b[0m",
      "\u001b[1;31mAttributeError\u001b[0m                            Traceback (most recent call last)",
      "\u001b[1;32m<ipython-input-31-15f66e140b3d>\u001b[0m in \u001b[0;36m<module>\u001b[1;34m\u001b[0m\n\u001b[0;32m      1\u001b[0m \u001b[1;31m#X_train = pd.DataFrame(train.drop(['Activity','subject'],axis=1))\u001b[0m\u001b[1;33m\u001b[0m\u001b[1;33m\u001b[0m\u001b[1;33m\u001b[0m\u001b[0m\n\u001b[1;32m----> 2\u001b[1;33m \u001b[0my_train_label\u001b[0m \u001b[1;33m=\u001b[0m \u001b[0my_train\u001b[0m\u001b[1;33m.\u001b[0m\u001b[0mActivity\u001b[0m\u001b[1;33m.\u001b[0m\u001b[0mvalues\u001b[0m\u001b[1;33m.\u001b[0m\u001b[0mastype\u001b[0m\u001b[1;33m(\u001b[0m\u001b[0mobject\u001b[0m\u001b[1;33m)\u001b[0m\u001b[1;33m\u001b[0m\u001b[1;33m\u001b[0m\u001b[0m\n\u001b[0m\u001b[0;32m      3\u001b[0m \u001b[1;31m#X_test = pd.DataFrame(test.drop(['Activity','subject'],axis=1))\u001b[0m\u001b[1;33m\u001b[0m\u001b[1;33m\u001b[0m\u001b[1;33m\u001b[0m\u001b[0m\n\u001b[0;32m      4\u001b[0m \u001b[0my_test_label\u001b[0m \u001b[1;33m=\u001b[0m \u001b[0my_test\u001b[0m\u001b[1;33m.\u001b[0m\u001b[0mActivity\u001b[0m\u001b[1;33m.\u001b[0m\u001b[0mvalues\u001b[0m\u001b[1;33m.\u001b[0m\u001b[0mastype\u001b[0m\u001b[1;33m(\u001b[0m\u001b[0mobject\u001b[0m\u001b[1;33m)\u001b[0m\u001b[1;33m\u001b[0m\u001b[1;33m\u001b[0m\u001b[0m\n\u001b[0;32m      5\u001b[0m \u001b[1;33m\u001b[0m\u001b[0m\n",
      "\u001b[1;32m~\\AppData\\Local\\Programs\\Python\\Python38\\lib\\site-packages\\pandas\\core\\generic.py\u001b[0m in \u001b[0;36m__getattr__\u001b[1;34m(self, name)\u001b[0m\n\u001b[0;32m   5463\u001b[0m             \u001b[1;32mif\u001b[0m \u001b[0mself\u001b[0m\u001b[1;33m.\u001b[0m\u001b[0m_info_axis\u001b[0m\u001b[1;33m.\u001b[0m\u001b[0m_can_hold_identifiers_and_holds_name\u001b[0m\u001b[1;33m(\u001b[0m\u001b[0mname\u001b[0m\u001b[1;33m)\u001b[0m\u001b[1;33m:\u001b[0m\u001b[1;33m\u001b[0m\u001b[1;33m\u001b[0m\u001b[0m\n\u001b[0;32m   5464\u001b[0m                 \u001b[1;32mreturn\u001b[0m \u001b[0mself\u001b[0m\u001b[1;33m[\u001b[0m\u001b[0mname\u001b[0m\u001b[1;33m]\u001b[0m\u001b[1;33m\u001b[0m\u001b[1;33m\u001b[0m\u001b[0m\n\u001b[1;32m-> 5465\u001b[1;33m             \u001b[1;32mreturn\u001b[0m \u001b[0mobject\u001b[0m\u001b[1;33m.\u001b[0m\u001b[0m__getattribute__\u001b[0m\u001b[1;33m(\u001b[0m\u001b[0mself\u001b[0m\u001b[1;33m,\u001b[0m \u001b[0mname\u001b[0m\u001b[1;33m)\u001b[0m\u001b[1;33m\u001b[0m\u001b[1;33m\u001b[0m\u001b[0m\n\u001b[0m\u001b[0;32m   5466\u001b[0m \u001b[1;33m\u001b[0m\u001b[0m\n\u001b[0;32m   5467\u001b[0m     \u001b[1;32mdef\u001b[0m \u001b[0m__setattr__\u001b[0m\u001b[1;33m(\u001b[0m\u001b[0mself\u001b[0m\u001b[1;33m,\u001b[0m \u001b[0mname\u001b[0m\u001b[1;33m:\u001b[0m \u001b[0mstr\u001b[0m\u001b[1;33m,\u001b[0m \u001b[0mvalue\u001b[0m\u001b[1;33m)\u001b[0m \u001b[1;33m->\u001b[0m \u001b[1;32mNone\u001b[0m\u001b[1;33m:\u001b[0m\u001b[1;33m\u001b[0m\u001b[1;33m\u001b[0m\u001b[0m\n",
      "\u001b[1;31mAttributeError\u001b[0m: 'Series' object has no attribute 'Activity'"
     ]
    }
   ],
   "source": [
    "#X_train = pd.DataFrame(train.drop(['Activity','subject'],axis=1))\n",
    "y_train_label = y_train.Activity.values.astype(object)\n",
    "#X_test = pd.DataFrame(test.drop(['Activity','subject'],axis=1))\n",
    "y_test_label = y_test.Activity.values.astype(object)\n",
    "\n",
    "print(\"Dimension of Train set\",X_train.shape)\n",
    "print(\"Dimension of Test set\",X_test.shape,\"\\n\")\n",
    "\n",
    "# Transforming non numerical labels into numerical labels\n",
    "encoder = preprocessing.LabelEncoder()\n",
    "\n",
    "# encoding train labels\n",
    "encoder.fit(y_train_label)\n",
    "y_train = encoder.transform(y_train_label)\n",
    "\n",
    "# encoding test labels\n",
    "encoder.fit(y_test_label)\n",
    "y_test = encoder.transform(y_test_label)\n",
    "\n",
    "#Total Number of Continuous features in the training set\n",
    "num_cols = X_train._get_numeric_data().columns\n",
    "print(\"Number of Continuous Features:\",num_cols.size)\n",
    "\n",
    "#names_of_predictors = list(X_train.columns.values) #Names of each feature\n",
    "\n",
    "# Scaling the Train and Test feature set\n",
    "# Because - values and classification\n",
    "scaler = StandardScaler()\n",
    "X_train_scaled = scaler.fit_transform(X_train) #fit_transform is performed on training data\n",
    "X_test_scaled = scaler.transform(X_test) #transform is performed on test data"
   ],
   "metadata": {
    "collapsed": false,
    "pycharm": {
     "name": "#%%\n"
    }
   }
  },
  {
   "cell_type": "markdown",
   "source": [
    "# Different Model Comparison\n",
    "\n",
    "In this step we compare 3 classic ml models."
   ],
   "metadata": {
    "collapsed": false
   }
  },
  {
   "cell_type": "code",
   "execution_count": 9,
   "outputs": [
    {
     "name": "stdout",
     "output_type": "stream",
     "text": [
      "Learner: Gaussian Naive Bayes \n",
      "------\n",
      "Training Data\n",
      "Time taken: 0.08783650398254395 seconds\n",
      "Testing Data\n",
      "Time taken: 0.09599781036376953 seconds\n",
      "\n",
      "Accuracy Score\n",
      "0.7702748557855447\n",
      "\n",
      "Beta Score\n",
      "0.7802673518256884\n",
      "\n",
      "Precision Score\n",
      "0.7946833707399261\n",
      "\n",
      "Recall Score\n",
      "0.7702748557855447 \n",
      "\n",
      "Learner: AdaBoost \n",
      "------\n",
      "Training Data\n",
      "Time taken: 19.05275797843933 seconds\n",
      "Testing Data\n",
      "Time taken: 0.07099056243896484 seconds\n",
      "\n",
      "Accuracy Score\n",
      "0.5310485239226331\n",
      "\n",
      "Beta Score\n",
      "0.35512687797924963\n",
      "\n",
      "Precision Score\n",
      "0.33628556107901597\n",
      "\n",
      "Recall Score\n",
      "0.5310485239226331 \n",
      "\n",
      "Learner: Support Vector Machine \n",
      "------\n",
      "Training Data\n",
      "Time taken: 6.97590708732605 seconds\n",
      "Testing Data\n",
      "Time taken: 4.350911617279053 seconds\n",
      "\n",
      "Accuracy Score\n",
      "0.9518154054971157\n",
      "\n",
      "Beta Score\n",
      "0.9519494451924377\n",
      "\n",
      "Precision Score\n",
      "0.9522363133649081\n",
      "\n",
      "Recall Score\n",
      "0.9518154054971157 \n",
      "\n"
     ]
    },
    {
     "name": "stderr",
     "output_type": "stream",
     "text": [
      "c:\\users\\aiden williams\\appdata\\local\\programs\\python\\python37\\lib\\site-packages\\sklearn\\metrics\\classification.py:1143: UndefinedMetricWarning: F-score is ill-defined and being set to 0.0 in labels with no predicted samples.\n",
      "  'precision', 'predicted', average, warn_for)\n",
      "c:\\users\\aiden williams\\appdata\\local\\programs\\python\\python37\\lib\\site-packages\\sklearn\\metrics\\classification.py:1143: UndefinedMetricWarning: Precision is ill-defined and being set to 0.0 in labels with no predicted samples.\n",
      "  'precision', 'predicted', average, warn_for)\n"
     ]
    }
   ],
   "source": [
    "clf_A = GaussianNB()\n",
    "clf_B = AdaBoostClassifier(random_state=0)\n",
    "clf_C = SVC(random_state=0)\n",
    "\n",
    "learners = {}\n",
    "learners[\"Gaussian Naive Bayes\"] = clf_A\n",
    "learners[\"AdaBoost\"] = clf_B\n",
    "learners[\"Support Vector Machine\"] = clf_C\n",
    "\n",
    "def train_predict(learners, X_train, y_train, X_test, y_test):\n",
    "    for learner in learners:\n",
    "        print(\"Learner:\", learner,\"\\n------\")\n",
    "        print(\"Training Data\")\n",
    "        start = time()\n",
    "        learners[learner].fit(X_train, y_train)\n",
    "        end = time()\n",
    "        print(\"Time taken:\", end-start, \"seconds\")\n",
    "\n",
    "        print(\"Testing Data\")\n",
    "        start = time()\n",
    "        predictions_test = learners[learner].predict(X_test)\n",
    "        end = time()\n",
    "        print(\"Time taken:\", end-start, \"seconds\")\n",
    "\n",
    "\n",
    "        print(\"\\nAccuracy Score\")\n",
    "        print(accuracy_score(y_test,predictions_test))\n",
    "\n",
    "        print(\"\\nBeta Score\")\n",
    "        print(fbeta_score(y_test,predictions_test,beta=0.5,average='weighted'))\n",
    "\n",
    "        print(\"\\nPrecision Score\")\n",
    "        print(precision_score(y_test, predictions_test, average='weighted'))\n",
    "\n",
    "        print(\"\\nRecall Score\")\n",
    "        print(recall_score(y_test, predictions_test, average='weighted'),'\\n')\n",
    "\n",
    "train_predict(learners, X_train_scaled, Y_train, X_test_scaled, Y_test)"
   ],
   "metadata": {
    "collapsed": false,
    "pycharm": {
     "name": "#%%\n"
    }
   }
  },
  {
   "cell_type": "markdown",
   "source": [
    "As can be seen from the above metrics, SVM is quite clearly the most accurate classifier of the three, and it is for that reason that we will use it as one of the main classifiers for the group practical task"
   ],
   "metadata": {
    "collapsed": false
   }
  },
  {
   "cell_type": "markdown",
   "source": [
    "# Support Vector Classifier\n",
    "\n",
    "There are a number of different parameters we can apply to SVC in order to obtain the best results possible. These different parameters were passed through a Grid Search model, which applies all of them to train various SVCs."
   ],
   "metadata": {
    "collapsed": false
   }
  },
  {
   "cell_type": "code",
   "execution_count": 10,
   "outputs": [
    {
     "name": "stderr",
     "output_type": "stream",
     "text": [
      "c:\\users\\aiden williams\\appdata\\local\\programs\\python\\python37\\lib\\site-packages\\sklearn\\model_selection\\_split.py:1943: FutureWarning: You should specify a value for 'cv' instead of relying on the default value. The default value will change from 3 to 5 in version 0.22.\n",
      "  warnings.warn(CV_WARNING, FutureWarning)\n",
      "c:\\users\\aiden williams\\appdata\\local\\programs\\python\\python37\\lib\\site-packages\\sklearn\\metrics\\classification.py:1143: UndefinedMetricWarning: F-score is ill-defined and being set to 0.0 in labels with no predicted samples.\n",
      "  'precision', 'predicted', average, warn_for)\n",
      "c:\\users\\aiden williams\\appdata\\local\\programs\\python\\python37\\lib\\site-packages\\sklearn\\metrics\\classification.py:1143: UndefinedMetricWarning: F-score is ill-defined and being set to 0.0 in labels with no predicted samples.\n",
      "  'precision', 'predicted', average, warn_for)\n",
      "c:\\users\\aiden williams\\appdata\\local\\programs\\python\\python37\\lib\\site-packages\\sklearn\\metrics\\classification.py:1143: UndefinedMetricWarning: F-score is ill-defined and being set to 0.0 in labels with no predicted samples.\n",
      "  'precision', 'predicted', average, warn_for)\n",
      "c:\\users\\aiden williams\\appdata\\local\\programs\\python\\python37\\lib\\site-packages\\sklearn\\metrics\\classification.py:1143: UndefinedMetricWarning: F-score is ill-defined and being set to 0.0 in labels with no predicted samples.\n",
      "  'precision', 'predicted', average, warn_for)\n",
      "c:\\users\\aiden williams\\appdata\\local\\programs\\python\\python37\\lib\\site-packages\\sklearn\\metrics\\classification.py:1143: UndefinedMetricWarning: F-score is ill-defined and being set to 0.0 in labels with no predicted samples.\n",
      "  'precision', 'predicted', average, warn_for)\n",
      "c:\\users\\aiden williams\\appdata\\local\\programs\\python\\python37\\lib\\site-packages\\sklearn\\metrics\\classification.py:1143: UndefinedMetricWarning: F-score is ill-defined and being set to 0.0 in labels with no predicted samples.\n",
      "  'precision', 'predicted', average, warn_for)\n",
      "c:\\users\\aiden williams\\appdata\\local\\programs\\python\\python37\\lib\\site-packages\\sklearn\\metrics\\classification.py:1143: UndefinedMetricWarning: F-score is ill-defined and being set to 0.0 in labels with no predicted samples.\n",
      "  'precision', 'predicted', average, warn_for)\n",
      "c:\\users\\aiden williams\\appdata\\local\\programs\\python\\python37\\lib\\site-packages\\sklearn\\metrics\\classification.py:1143: UndefinedMetricWarning: F-score is ill-defined and being set to 0.0 in labels with no predicted samples.\n",
      "  'precision', 'predicted', average, warn_for)\n",
      "c:\\users\\aiden williams\\appdata\\local\\programs\\python\\python37\\lib\\site-packages\\sklearn\\metrics\\classification.py:1143: UndefinedMetricWarning: F-score is ill-defined and being set to 0.0 in labels with no predicted samples.\n",
      "  'precision', 'predicted', average, warn_for)\n",
      "c:\\users\\aiden williams\\appdata\\local\\programs\\python\\python37\\lib\\site-packages\\sklearn\\metrics\\classification.py:1143: UndefinedMetricWarning: F-score is ill-defined and being set to 0.0 in labels with no predicted samples.\n",
      "  'precision', 'predicted', average, warn_for)\n",
      "c:\\users\\aiden williams\\appdata\\local\\programs\\python\\python37\\lib\\site-packages\\sklearn\\metrics\\classification.py:1143: UndefinedMetricWarning: F-score is ill-defined and being set to 0.0 in labels with no predicted samples.\n",
      "  'precision', 'predicted', average, warn_for)\n",
      "c:\\users\\aiden williams\\appdata\\local\\programs\\python\\python37\\lib\\site-packages\\sklearn\\metrics\\classification.py:1143: UndefinedMetricWarning: F-score is ill-defined and being set to 0.0 in labels with no predicted samples.\n",
      "  'precision', 'predicted', average, warn_for)\n",
      "c:\\users\\aiden williams\\appdata\\local\\programs\\python\\python37\\lib\\site-packages\\sklearn\\metrics\\classification.py:1143: UndefinedMetricWarning: F-score is ill-defined and being set to 0.0 in labels with no predicted samples.\n",
      "  'precision', 'predicted', average, warn_for)\n",
      "c:\\users\\aiden williams\\appdata\\local\\programs\\python\\python37\\lib\\site-packages\\sklearn\\metrics\\classification.py:1143: UndefinedMetricWarning: F-score is ill-defined and being set to 0.0 in labels with no predicted samples.\n",
      "  'precision', 'predicted', average, warn_for)\n",
      "c:\\users\\aiden williams\\appdata\\local\\programs\\python\\python37\\lib\\site-packages\\sklearn\\metrics\\classification.py:1143: UndefinedMetricWarning: F-score is ill-defined and being set to 0.0 in labels with no predicted samples.\n",
      "  'precision', 'predicted', average, warn_for)\n",
      "c:\\users\\aiden williams\\appdata\\local\\programs\\python\\python37\\lib\\site-packages\\sklearn\\metrics\\classification.py:1143: UndefinedMetricWarning: Precision is ill-defined and being set to 0.0 in labels with no predicted samples.\n",
      "  'precision', 'predicted', average, warn_for)\n"
     ]
    },
    {
     "name": "stdout",
     "output_type": "stream",
     "text": [
      "Unoptimized model\n",
      "------\n",
      "Accuracy score on the testing data: 0.3081\n",
      "F-score on the testing data: 0.1388\n",
      "Precision score on the testing data: 0.3362\n",
      "Recall score on the testing data: 0.3081\n",
      "\n",
      "Optimized Model\n",
      "------\n",
      "Final accuracy score on the testing data: 0.9562\n",
      "Final F-score on the testing data: 0.9565\n",
      "Final precision score on the testing data: 0.9570\n",
      "Final recall score on the testing data: 0.9562\n"
     ]
    }
   ],
   "source": [
    "clf = SVC(random_state=0)\n",
    "\n",
    "parameters =    {\n",
    "                \"kernel\": ['poly', 'rbf', 'sigmoid'],\n",
    "                \"C\": [50, 10, 1.0, 0.1, 0.01],\n",
    "                \"gamma\": ['scale']\n",
    "                }\n",
    "\n",
    "scorer = make_scorer(fbeta_score, beta=0.5,average='weighted')\n",
    "grid_obj = GridSearchCV(clf, parameters, scoring=scorer)\n",
    "grid_fit = grid_obj.fit(X_train_scaled,Y_train)\n",
    "\n",
    "# Get the estimator\n",
    "best_clf = grid_fit.best_estimator_\n",
    "clf.fit(X_train_scaled, Y_train)\n",
    "# Make predictions using the unoptimized and model\n",
    "predictions = clf.predict(X_test)\n",
    "best_predictions = best_clf.predict(X_test_scaled)\n",
    "\n",
    "# Report the before-and-afterscores\n",
    "print(\"Unoptimized model\\n------\")\n",
    "print(\"Accuracy score on the testing data: {:.4f}\".format(accuracy_score(Y_test, predictions)))\n",
    "print(\"F-score on the testing data: {:.4f}\".format(fbeta_score(Y_test, predictions, beta = 0.5,average='weighted')))\n",
    "print(\"Precision score on the testing data: {:.4f}\".format(precision_score(Y_test, predictions, average='weighted')))\n",
    "print(\"Recall score on the testing data: {:.4f}\".format(recall_score(Y_test, predictions, average='weighted')))\n",
    "print(\"\\nOptimized Model\\n------\")\n",
    "print(\"Final accuracy score on the testing data: {:.4f}\".format(accuracy_score(Y_test, best_predictions)))\n",
    "print(\"Final F-score on the testing data: {:.4f}\".format(fbeta_score(Y_test, best_predictions, beta = 0.5,average='weighted')))\n",
    "print(\"Final precision score on the testing data: {:.4f}\".format(precision_score(Y_test, best_predictions, average='weighted')))\n",
    "print(\"Final recall score on the testing data: {:.4f}\".format(recall_score(Y_test, best_predictions, average='weighted')))"
   ],
   "metadata": {
    "collapsed": false,
    "pycharm": {
     "name": "#%%\n"
    }
   }
  },
  {
   "cell_type": "code",
   "execution_count": 13,
   "outputs": [
    {
     "data": {
      "text/plain": "<Figure size 432x288 with 2 Axes>",
      "image/png": "[encoded data removed]"
     },
     "metadata": {
      "needs_background": "light"
     },
     "output_type": "display_data"
    }
   ],
   "source": [
    "#Confusion Matrix maps out the predicted label given to the data with the actual label\n",
    "#Helps us check the rate of true/false positives and true/false negatives\n",
    "#parameters are the true labels, and the predicted labels\n",
    "\n",
    "# https://sklearn.org/auto_examples/model_selection/plot_confusion_matrix.html\n",
    "def plot_confusion_matrix(cm, classes,\n",
    "                          normalize=False,\n",
    "                          title='Confusion matrix',\n",
    "                          cmap=plt.cm.Blues):\n",
    "    \"\"\"\n",
    "    This function prints and plots the confusion matrix.\n",
    "    Normalization can be applied by setting `normalize=True`.\n",
    "    \"\"\"\n",
    "    if normalize:\n",
    "        cm = cm.astype('float') / cm.sum(axis=1)[:, np.newaxis]\n",
    "\n",
    "    plt.imshow(cm, interpolation='nearest', cmap=cmap)\n",
    "    plt.title(title)\n",
    "    plt.colorbar()\n",
    "    tick_marks = np.arange(len(classes))\n",
    "    plt.xticks(tick_marks, classes, rotation=45)\n",
    "    plt.yticks(tick_marks, classes)\n",
    "\n",
    "    fmt = '.2f' if normalize else 'd'\n",
    "    thresh = cm.max() / 2.\n",
    "    for i, j in itertools.product(range(cm.shape[0]), range(cm.shape[1])):\n",
    "        plt.text(j, i, format(cm[i, j], fmt),\n",
    "                 horizontalalignment=\"center\",\n",
    "                 color=\"white\" if cm[i, j] > thresh else \"black\")\n",
    "\n",
    "    plt.tight_layout()\n",
    "    plt.ylabel('True label')\n",
    "    plt.xlabel('Predicted label')\n",
    "\n",
    "\n",
    "cnf_matrix = confusion_matrix(Y_test, best_predictions)\n",
    "np.set_printoptions(precision=2)\n",
    "\n",
    "classes =    {\n",
    "                        \"WALKING\":0,\n",
    "                        \"WALKING_DOWNSTAIRS\":1,\n",
    "                        \"WALKING_UPSTAIRS\":2,\n",
    "                        \"LAYING\":3,\n",
    "                        \"SITTING\":4,\n",
    "                        \"STANDING\":5\n",
    "                    }\n",
    "\n",
    "# Plot non-normalized confusion matrix\n",
    "plt.figure()\n",
    "plot_confusion_matrix(cnf_matrix, classes=classes, normalize=True,title='Confusion matrix')\n"
   ],
   "metadata": {
    "collapsed": false,
    "pycharm": {
     "name": "#%%\n"
    }
   }
  },
  {
   "cell_type": "code",
   "execution_count": 12,
   "outputs": [
    {
     "name": "stdout",
     "output_type": "stream",
     "text": [
      "The best parameters were: {'C': 50, 'gamma': 'scale', 'kernel': 'rbf'}\n"
     ]
    }
   ],
   "source": [
    "print(\"The best parameters were:\", grid_fit.best_params_)\n"
   ],
   "metadata": {
    "collapsed": false,
    "pycharm": {
     "name": "#%%\n"
    }
   }
  }
 ],
 "metadata": {
  "kernelspec": {
   "name": "python383jvsc74a57bd0f9db377eb99f2f0001687ee5f0a8c7059c0f00fe46be8b7ead3eb64d7e1b83ff",
   "display_name": "Python 3.8.3 64-bit"
  },
  "language_info": {
   "codemirror_mode": {
    "name": "ipython",
    "version": 2
   },
   "file_extension": ".py",
   "mimetype": "text/x-python",
   "name": "python",
   "nbconvert_exporter": "python",
   "pygments_lexer": "ipython2",
   "version": "3.8.3"
  }
 },
 "nbformat": 4,
 "nbformat_minor": 0
}